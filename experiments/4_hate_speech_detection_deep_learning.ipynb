{
 "cells": [
  {
   "cell_type": "markdown",
   "id": "83f453d6",
   "metadata": {
    "papermill": {
     "duration": 0.010754,
     "end_time": "2022-08-09T05:47:49.331069",
     "exception": false,
     "start_time": "2022-08-09T05:47:49.320315",
     "status": "completed"
    },
    "tags": []
   },
   "source": [
    "# Data Science Trainee Hands On"
   ]
  },
  {
   "cell_type": "markdown",
   "id": "878eb5f7",
   "metadata": {
    "papermill": {
     "duration": 0.009122,
     "end_time": "2022-08-09T05:47:49.349844",
     "exception": false,
     "start_time": "2022-08-09T05:47:49.340722",
     "status": "completed"
    },
    "tags": []
   },
   "source": [
    "## Pendahuluan"
   ]
  },
  {
   "cell_type": "markdown",
   "id": "73a68142",
   "metadata": {
    "papermill": {
     "duration": 0.010625,
     "end_time": "2022-08-09T05:47:49.369831",
     "exception": false,
     "start_time": "2022-08-09T05:47:49.359206",
     "status": "completed"
    },
    "tags": []
   },
   "source": [
    "### Latar Belakang"
   ]
  },
  {
   "cell_type": "markdown",
   "id": "29e15245",
   "metadata": {
    "papermill": {
     "duration": 0.009199,
     "end_time": "2022-08-09T05:47:49.388551",
     "exception": false,
     "start_time": "2022-08-09T05:47:49.379352",
     "status": "completed"
    },
    "tags": []
   },
   "source": [
    "Sejak beberapa tahun ke belakang, media sosial menjadi salah satu media penyebaran informasi terbesar yang digunakan di masyarakat. Media sosial memberikan ruang untuk setiap individu dapat melakukan produksi, distribusi, dan konsumsi informasi dengan sangat mudah tanpa mengenal ruang dan waktu. Kemudahan dalam menyampaikan informasi dan berekspresi membuat volume data media sosial menjadi sangat besar. Data ini menyimpan berbagai informasi yang berharga. Salah satu penggunaan media sosial dalam di dalam masyarakat sebagai media diskusi atau sekedar penyampaian opini tentang berbagai isu yang berkembang di masyarakat. \n",
    "\n",
    "Kemudahan yang dihadirkan media sosial tidak hanya memberikan dampak yang bersifat positif. Salah satu hal yang paling mudah terlihat adalah mudahnya seseorang untuk melakukan ujaran kebencian (hate speech) terhadap sesama pengguna di media sosial. Hal ini tentunya menjadi masalah yang cukup serius karena memungkinkan terciptanya lingkungan yang buruk bagi masyarakat ketika bermedia sosial. Bukan tidak mungkin banyaknya permasalahan mental yang dialami orang-orang tidak lepas dari kondisi ini. Kondisi ini juga tentunya sangat tidak sesuai dengan budaya Indonesia yang terkenal akan keramahannya antar sesama. Terpisahnya jarak dan tempat yang dihubungkan oleh media sosial rasanya membuat hilangnya budaya masyarakat Indonesia yang selalu sopan dan santun kepada siapa pun.\n",
    "\n",
    "Efek negatif yang ditimbulkan oleh teknologi seharusnya dapat diatasi oleh pendekatan teknologi pula. Salah satu solusi untuk mengurangi keberadaan ujaran kebencian dan bullying di media sosial adalah dengan melakukan klasifikasi atas pesan yang diterima untuk meniadakan pesan yang diduga mengandung maksud tertentu. Oleh karena itu, permasalahan yang dianalisis dan dicari solusinya pada implementasi ini adalah klasifikasi ujaran kebencian.\n",
    "\n",
    "Sebelum melakukan pekerjaan utama, dilakukan analisis data teks mengenai topik ini terlebih dahulu. Analisis data dimaksudkan untuk mendapatkan wawasan/insight mengenai data yang dapat membantu dalam menyelesaikan masalah. Analisis dilakukan dengan mengolah data dan juga melakukan visualisasi terhadapnya."
   ]
  },
  {
   "cell_type": "markdown",
   "id": "04b875e7",
   "metadata": {
    "papermill": {
     "duration": 0.009207,
     "end_time": "2022-08-09T05:47:49.407013",
     "exception": false,
     "start_time": "2022-08-09T05:47:49.397806",
     "status": "completed"
    },
    "tags": []
   },
   "source": [
    "### Deskripsi Permasalahan"
   ]
  },
  {
   "cell_type": "markdown",
   "id": "a8288acb",
   "metadata": {
    "papermill": {
     "duration": 0.009617,
     "end_time": "2022-08-09T05:47:49.426033",
     "exception": false,
     "start_time": "2022-08-09T05:47:49.416416",
     "status": "completed"
    },
    "tags": []
   },
   "source": [
    "Data yang digunakan memiliki 6 label dengan 5 label hate speech (**religion, race, physical, gender, other**) dan 1 label **not hate speech**. Pada implementasinya saya bermaksud untuk menganalisis terlebih dahulu dan akan menentukan apakah akan menggunakan 6 label atau diturunkan menjadi 2 label. \n",
    "\n",
    "Data yang digunakan merupakan kumpulan tweet yang memiliki label abusive dan hate speech. Untuk hate speech sendiri memiliki informasi lebih dalam terkait topik atau ranah hate speech-nya dan juga kekuatan dari hate speech-nya. Pada folder dataset juga disediakan kamus typo atau slangword sebagai upaya normalisasi teks tweet yang banyak mengandung kata typo, singkatan, dan gaul. Terdapat juga list kata abusive yang dapat digunakan untuk ekstraksi fitur.\n"
   ]
  },
  {
   "cell_type": "markdown",
   "id": "6f021b4d",
   "metadata": {
    "papermill": {
     "duration": 0.009161,
     "end_time": "2022-08-09T05:47:49.444492",
     "exception": false,
     "start_time": "2022-08-09T05:47:49.435331",
     "status": "completed"
    },
    "tags": []
   },
   "source": [
    "## Data Overview"
   ]
  },
  {
   "cell_type": "markdown",
   "id": "dc924995",
   "metadata": {
    "papermill": {
     "duration": 0.009371,
     "end_time": "2022-08-09T05:47:49.463207",
     "exception": false,
     "start_time": "2022-08-09T05:47:49.453836",
     "status": "completed"
    },
    "tags": []
   },
   "source": [
    "### Data Preparation"
   ]
  },
  {
   "cell_type": "markdown",
   "id": "5703b029",
   "metadata": {
    "papermill": {
     "duration": 0.009276,
     "end_time": "2022-08-09T05:47:49.482002",
     "exception": false,
     "start_time": "2022-08-09T05:47:49.472726",
     "status": "completed"
    },
    "tags": []
   },
   "source": [
    "#### Import Pustaka"
   ]
  },
  {
   "cell_type": "code",
   "execution_count": 1,
   "id": "af12f716",
   "metadata": {
    "execution": {
     "iopub.execute_input": "2022-08-09T05:47:49.505167Z",
     "iopub.status.busy": "2022-08-09T05:47:49.504602Z",
     "iopub.status.idle": "2022-08-09T05:48:02.595235Z",
     "shell.execute_reply": "2022-08-09T05:48:02.594250Z"
    },
    "papermill": {
     "duration": 13.104878,
     "end_time": "2022-08-09T05:48:02.597777",
     "exception": false,
     "start_time": "2022-08-09T05:47:49.492899",
     "status": "completed"
    },
    "tags": []
   },
   "outputs": [],
   "source": [
    "import re\n",
    "import nltk\n",
    "import string\n",
    "import codecs\n",
    "import pickle\n",
    "import warnings\n",
    "import numpy as np\n",
    "import pandas as pd\n",
    "import fasttext.util\n",
    "import seaborn as sns\n",
    "import tensorflow as tf\n",
    "import matplotlib.pyplot as plt\n",
    "\n",
    "from sklearn.metrics import classification_report, confusion_matrix\n",
    "\n",
    "from tensorflow import keras\n",
    "from tensorflow.keras import layers, models, initializers, regularizers, constraints, optimizers\n",
    "from tensorflow.keras.models import Sequential\n",
    "from tensorflow.keras.layers import Input, Dense, Conv1D, Embedding, Dropout, GlobalMaxPool1D, SpatialDropout1D, BatchNormalization, Bidirectional, LSTM, GlobalMaxPooling1D, MaxPooling1D, Flatten\n",
    "from tensorflow.keras.preprocessing.text import Tokenizer\n",
    "from tensorflow.keras.preprocessing.sequence import pad_sequences\n",
    "from tensorflow.keras.preprocessing import text, sequence\n",
    "\n",
    "from tqdm import tqdm\n",
    "from gensim.models.word2vec import Word2Vec\n",
    "\n",
    "from nltk.corpus import wordnet\n",
    "from nltk.corpus import stopwords\n",
    "from nltk.tokenize import word_tokenize \n",
    "from nltk.stem.snowball import PorterStemmer\n",
    "\n",
    "from spacy.lang.id.stop_words import STOP_WORDS as STOPWORDS\n"
   ]
  },
  {
   "cell_type": "code",
   "execution_count": 2,
   "id": "03baedbc",
   "metadata": {
    "execution": {
     "iopub.execute_input": "2022-08-09T05:48:02.619691Z",
     "iopub.status.busy": "2022-08-09T05:48:02.619125Z",
     "iopub.status.idle": "2022-08-09T05:48:02.625391Z",
     "shell.execute_reply": "2022-08-09T05:48:02.624428Z"
    },
    "papermill": {
     "duration": 0.019426,
     "end_time": "2022-08-09T05:48:02.627544",
     "exception": false,
     "start_time": "2022-08-09T05:48:02.608118",
     "status": "completed"
    },
    "tags": []
   },
   "outputs": [],
   "source": [
    "sns.set_style(\"white\")\n",
    "pd.options.mode.chained_assignment = None\n",
    "pd.set_option('display.max_colwidth', None)\n",
    "warnings.simplefilter(action=\"ignore\", category=FutureWarning)"
   ]
  },
  {
   "cell_type": "markdown",
   "id": "be43de92",
   "metadata": {
    "papermill": {
     "duration": 0.009913,
     "end_time": "2022-08-09T05:48:02.646873",
     "exception": false,
     "start_time": "2022-08-09T05:48:02.636960",
     "status": "completed"
    },
    "tags": []
   },
   "source": [
    "#### Import Data"
   ]
  },
  {
   "cell_type": "code",
   "execution_count": 3,
   "id": "db73e78d",
   "metadata": {
    "execution": {
     "iopub.execute_input": "2022-08-09T05:48:02.667292Z",
     "iopub.status.busy": "2022-08-09T05:48:02.666997Z",
     "iopub.status.idle": "2022-08-09T05:48:02.750276Z",
     "shell.execute_reply": "2022-08-09T05:48:02.749309Z"
    },
    "papermill": {
     "duration": 0.096003,
     "end_time": "2022-08-09T05:48:02.752579",
     "exception": false,
     "start_time": "2022-08-09T05:48:02.656576",
     "status": "completed"
    },
    "tags": []
   },
   "outputs": [
    {
     "data": {
      "text/html": [
       "<div>\n",
       "<style scoped>\n",
       "    .dataframe tbody tr th:only-of-type {\n",
       "        vertical-align: middle;\n",
       "    }\n",
       "\n",
       "    .dataframe tbody tr th {\n",
       "        vertical-align: top;\n",
       "    }\n",
       "\n",
       "    .dataframe thead th {\n",
       "        text-align: right;\n",
       "    }\n",
       "</style>\n",
       "<table border=\"1\" class=\"dataframe\">\n",
       "  <thead>\n",
       "    <tr style=\"text-align: right;\">\n",
       "      <th></th>\n",
       "      <th>Tweet</th>\n",
       "      <th>HS</th>\n",
       "      <th>Abusive</th>\n",
       "      <th>HS_Individual</th>\n",
       "      <th>HS_Group</th>\n",
       "      <th>HS_Religion</th>\n",
       "      <th>HS_Race</th>\n",
       "      <th>HS_Physical</th>\n",
       "      <th>HS_Gender</th>\n",
       "      <th>HS_Other</th>\n",
       "      <th>HS_Weak</th>\n",
       "      <th>HS_Moderate</th>\n",
       "      <th>HS_Strong</th>\n",
       "    </tr>\n",
       "  </thead>\n",
       "  <tbody>\n",
       "    <tr>\n",
       "      <th>0</th>\n",
       "      <td>- disaat semua cowok berusaha melacak perhatian gue. loe lantas remehkan perhatian yg gue kasih khusus ke elo. basic elo cowok bego ! ! !'</td>\n",
       "      <td>1</td>\n",
       "      <td>1</td>\n",
       "      <td>1</td>\n",
       "      <td>0</td>\n",
       "      <td>0</td>\n",
       "      <td>0</td>\n",
       "      <td>0</td>\n",
       "      <td>0</td>\n",
       "      <td>1</td>\n",
       "      <td>1</td>\n",
       "      <td>0</td>\n",
       "      <td>0</td>\n",
       "    </tr>\n",
       "    <tr>\n",
       "      <th>1</th>\n",
       "      <td>RT USER: USER siapa yang telat ngasih tau elu?edan sarap gue bergaul dengan cigax jifla calis sama siapa noh licew juga'</td>\n",
       "      <td>0</td>\n",
       "      <td>1</td>\n",
       "      <td>0</td>\n",
       "      <td>0</td>\n",
       "      <td>0</td>\n",
       "      <td>0</td>\n",
       "      <td>0</td>\n",
       "      <td>0</td>\n",
       "      <td>0</td>\n",
       "      <td>0</td>\n",
       "      <td>0</td>\n",
       "      <td>0</td>\n",
       "    </tr>\n",
       "    <tr>\n",
       "      <th>2</th>\n",
       "      <td>41. Kadang aku berfikir, kenapa aku tetap percaya pada Tuhan padahal aku selalu jatuh berkali-kali. Kadang aku merasa Tuhan itu ninggalkan aku sendirian. Ketika orangtuaku berencana berpisah, ketika kakakku lebih memilih jadi Kristen. Ketika aku anak ter</td>\n",
       "      <td>0</td>\n",
       "      <td>0</td>\n",
       "      <td>0</td>\n",
       "      <td>0</td>\n",
       "      <td>0</td>\n",
       "      <td>0</td>\n",
       "      <td>0</td>\n",
       "      <td>0</td>\n",
       "      <td>0</td>\n",
       "      <td>0</td>\n",
       "      <td>0</td>\n",
       "      <td>0</td>\n",
       "    </tr>\n",
       "  </tbody>\n",
       "</table>\n",
       "</div>"
      ],
      "text/plain": [
       "                                                                                                                                                                                                                                                            Tweet  \\\n",
       "0                                                                                                                      - disaat semua cowok berusaha melacak perhatian gue. loe lantas remehkan perhatian yg gue kasih khusus ke elo. basic elo cowok bego ! ! !'   \n",
       "1                                                                                                                                        RT USER: USER siapa yang telat ngasih tau elu?edan sarap gue bergaul dengan cigax jifla calis sama siapa noh licew juga'   \n",
       "2  41. Kadang aku berfikir, kenapa aku tetap percaya pada Tuhan padahal aku selalu jatuh berkali-kali. Kadang aku merasa Tuhan itu ninggalkan aku sendirian. Ketika orangtuaku berencana berpisah, ketika kakakku lebih memilih jadi Kristen. Ketika aku anak ter   \n",
       "\n",
       "   HS  Abusive  HS_Individual  HS_Group  HS_Religion  HS_Race  HS_Physical  \\\n",
       "0   1        1              1         0            0        0            0   \n",
       "1   0        1              0         0            0        0            0   \n",
       "2   0        0              0         0            0        0            0   \n",
       "\n",
       "   HS_Gender  HS_Other  HS_Weak  HS_Moderate  HS_Strong  \n",
       "0          0         1        1            0          0  \n",
       "1          0         0        0            0          0  \n",
       "2          0         0        0            0          0  "
      ]
     },
     "execution_count": 3,
     "metadata": {},
     "output_type": "execute_result"
    }
   ],
   "source": [
    "df_raw = pd.read_csv(\"../input/jsc-handson/data.csv\", encoding = \"ISO-8859-1\")\n",
    "df_raw.head(3)"
   ]
  },
  {
   "cell_type": "markdown",
   "id": "6b00cd93",
   "metadata": {
    "papermill": {
     "duration": 0.009425,
     "end_time": "2022-08-09T05:48:02.771954",
     "exception": false,
     "start_time": "2022-08-09T05:48:02.762529",
     "status": "completed"
    },
    "tags": []
   },
   "source": [
    "Untuk mempermudah analisis, label yang berbentuk one hot encoding ditranslasikan menjadi bentuk label text. "
   ]
  },
  {
   "cell_type": "code",
   "execution_count": 4,
   "id": "a6eeb828",
   "metadata": {
    "execution": {
     "iopub.execute_input": "2022-08-09T05:48:02.794645Z",
     "iopub.status.busy": "2022-08-09T05:48:02.793000Z",
     "iopub.status.idle": "2022-08-09T05:48:02.800874Z",
     "shell.execute_reply": "2022-08-09T05:48:02.799952Z"
    },
    "papermill": {
     "duration": 0.020959,
     "end_time": "2022-08-09T05:48:02.802949",
     "exception": false,
     "start_time": "2022-08-09T05:48:02.781990",
     "status": "completed"
    },
    "tags": []
   },
   "outputs": [],
   "source": [
    "def categories_translate(row):\n",
    "    if (row.HS_Religion):\n",
    "        return \"religion hatespeech\"\n",
    "    elif (row.HS_Race):\n",
    "        return \"race hatespeech\"\n",
    "    elif (row.HS_Physical):\n",
    "        return \"physical hatespeech\"\n",
    "    elif (row.HS_Gender):\n",
    "        return \"gender hatespeech\"\n",
    "    elif (row.HS_Other):\n",
    "        return \"other hatespeech\"\n",
    "    else:\n",
    "        return \"not hatespeech\"\n",
    "    \n",
    "def target_translate(row):\n",
    "    if (row.HS_Individual):\n",
    "        return \"individual hatespeech\"\n",
    "    elif (row.HS_Group):\n",
    "        return \"group hatespeech\"\n",
    "    else:\n",
    "        return \"not hatespeech\"\n",
    "    \n",
    "def severity_translate(row):\n",
    "    if (row.HS_Weak):\n",
    "        return \"weak hatespeech\"\n",
    "    elif (row.HS_Moderate):\n",
    "        return \"moderate hatespeech\"\n",
    "    elif (row.HS_Strong):\n",
    "        return \"strong hatespeech\"\n",
    "    else:\n",
    "        return \"not hatespeech\""
   ]
  },
  {
   "cell_type": "code",
   "execution_count": 5,
   "id": "2097ab81",
   "metadata": {
    "execution": {
     "iopub.execute_input": "2022-08-09T05:48:02.823524Z",
     "iopub.status.busy": "2022-08-09T05:48:02.823230Z",
     "iopub.status.idle": "2022-08-09T05:48:04.126624Z",
     "shell.execute_reply": "2022-08-09T05:48:04.125602Z"
    },
    "papermill": {
     "duration": 1.316623,
     "end_time": "2022-08-09T05:48:04.129286",
     "exception": false,
     "start_time": "2022-08-09T05:48:02.812663",
     "status": "completed"
    },
    "tags": []
   },
   "outputs": [],
   "source": [
    "df_raw[\"hate_speech\"] = df_raw.apply(lambda row: \"hatespeech\" if row.HS else \"not hatespeech\", axis=1)\n",
    "df_raw[\"abusive\"] = df_raw.apply(lambda row: \"abusive\" if row.HS else \"not abusive\", axis=1)\n",
    "df_raw[\"hate_speech_categories\"] = df_raw.apply(lambda row: categories_translate(row), axis=1)\n",
    "df_raw[\"hate_speech_target\"] = df_raw.apply(lambda row: target_translate(row), axis=1)\n",
    "df_raw[\"hate_speech_severity\"] = df_raw.apply(lambda row: severity_translate(row), axis=1)\n",
    "\n",
    "df_raw = df_raw.rename(columns={\"Tweet\": \"text\"})\n",
    "df_raw = df_raw.loc[:, ['text', 'hate_speech', \"abusive\", \"hate_speech_categories\", \"hate_speech_target\", \"hate_speech_severity\"]]"
   ]
  },
  {
   "cell_type": "markdown",
   "id": "9b4de959",
   "metadata": {
    "papermill": {
     "duration": 0.009681,
     "end_time": "2022-08-09T05:48:04.149308",
     "exception": false,
     "start_time": "2022-08-09T05:48:04.139627",
     "status": "completed"
    },
    "tags": []
   },
   "source": [
    "Teramati bahwa data masih sangat kotor karena diambil dari media sosial sehingga masih memiliki mention, hashtag, hingga url. Diperlukan preprocessing untuk menangani ini."
   ]
  },
  {
   "cell_type": "markdown",
   "id": "913e1d41",
   "metadata": {
    "papermill": {
     "duration": 0.010037,
     "end_time": "2022-08-09T05:48:04.169183",
     "exception": false,
     "start_time": "2022-08-09T05:48:04.159146",
     "status": "completed"
    },
    "tags": []
   },
   "source": [
    "#### Missing Values"
   ]
  },
  {
   "cell_type": "code",
   "execution_count": 6,
   "id": "a22b050d",
   "metadata": {
    "execution": {
     "iopub.execute_input": "2022-08-09T05:48:04.190095Z",
     "iopub.status.busy": "2022-08-09T05:48:04.189428Z",
     "iopub.status.idle": "2022-08-09T05:48:04.201226Z",
     "shell.execute_reply": "2022-08-09T05:48:04.200179Z"
    },
    "papermill": {
     "duration": 0.02477,
     "end_time": "2022-08-09T05:48:04.203592",
     "exception": false,
     "start_time": "2022-08-09T05:48:04.178822",
     "status": "completed"
    },
    "tags": []
   },
   "outputs": [
    {
     "data": {
      "text/plain": [
       "text                      0\n",
       "hate_speech               0\n",
       "abusive                   0\n",
       "hate_speech_categories    0\n",
       "hate_speech_target        0\n",
       "hate_speech_severity      0\n",
       "dtype: int64"
      ]
     },
     "execution_count": 6,
     "metadata": {},
     "output_type": "execute_result"
    }
   ],
   "source": [
    "df_raw.isnull().sum()"
   ]
  },
  {
   "cell_type": "markdown",
   "id": "b635732f",
   "metadata": {
    "papermill": {
     "duration": 0.009756,
     "end_time": "2022-08-09T05:48:04.223282",
     "exception": false,
     "start_time": "2022-08-09T05:48:04.213526",
     "status": "completed"
    },
    "tags": []
   },
   "source": [
    "Tidak terdapat baris data yang memiliki nilai null atau tidak terdefinisi sehingga dapat diproses keseluruhannya."
   ]
  },
  {
   "cell_type": "markdown",
   "id": "905372ed",
   "metadata": {
    "papermill": {
     "duration": 0.009922,
     "end_time": "2022-08-09T05:48:04.243137",
     "exception": false,
     "start_time": "2022-08-09T05:48:04.233215",
     "status": "completed"
    },
    "tags": []
   },
   "source": [
    "#### Duplicate Values"
   ]
  },
  {
   "cell_type": "code",
   "execution_count": 7,
   "id": "4ac557f3",
   "metadata": {
    "execution": {
     "iopub.execute_input": "2022-08-09T05:48:04.264845Z",
     "iopub.status.busy": "2022-08-09T05:48:04.264488Z",
     "iopub.status.idle": "2022-08-09T05:48:04.291281Z",
     "shell.execute_reply": "2022-08-09T05:48:04.290352Z"
    },
    "papermill": {
     "duration": 0.039788,
     "end_time": "2022-08-09T05:48:04.293304",
     "exception": false,
     "start_time": "2022-08-09T05:48:04.253516",
     "status": "completed"
    },
    "tags": []
   },
   "outputs": [
    {
     "data": {
      "text/html": [
       "<div>\n",
       "<style scoped>\n",
       "    .dataframe tbody tr th:only-of-type {\n",
       "        vertical-align: middle;\n",
       "    }\n",
       "\n",
       "    .dataframe tbody tr th {\n",
       "        vertical-align: top;\n",
       "    }\n",
       "\n",
       "    .dataframe thead th {\n",
       "        text-align: right;\n",
       "    }\n",
       "</style>\n",
       "<table border=\"1\" class=\"dataframe\">\n",
       "  <thead>\n",
       "    <tr style=\"text-align: right;\">\n",
       "      <th></th>\n",
       "      <th>text</th>\n",
       "      <th>hate_speech</th>\n",
       "      <th>abusive</th>\n",
       "      <th>hate_speech_categories</th>\n",
       "      <th>hate_speech_target</th>\n",
       "      <th>hate_speech_severity</th>\n",
       "    </tr>\n",
       "  </thead>\n",
       "  <tbody>\n",
       "    <tr>\n",
       "      <th>33</th>\n",
       "      <td>RT USER: Kelakuan homok jaman now, ngentot aja sambil live di Blued #gayvid #gvid #lokalhangat URL</td>\n",
       "      <td>not hatespeech</td>\n",
       "      <td>not abusive</td>\n",
       "      <td>not hatespeech</td>\n",
       "      <td>not hatespeech</td>\n",
       "      <td>not hatespeech</td>\n",
       "    </tr>\n",
       "    <tr>\n",
       "      <th>40</th>\n",
       "      <td>GAPERNAH MENDALAMI AL-QURAN YA BANG??? PANTESAN MULUTNYA KAYA ORANG KAFIR BEJAT HINA farhatabbaslaw'</td>\n",
       "      <td>hatespeech</td>\n",
       "      <td>abusive</td>\n",
       "      <td>religion hatespeech</td>\n",
       "      <td>individual hatespeech</td>\n",
       "      <td>weak hatespeech</td>\n",
       "    </tr>\n",
       "    <tr>\n",
       "      <th>43</th>\n",
       "      <td>#GubernurZamanNow #GusIpulPuti2 #GanjarYasin1 #DjarotSihar2 #HasanAnton2 #KosterAce1 #NurdinSudirman3 #KarolinGidot2 RT USER: \"Keanekaragaman budaya, suku, agama, itulah sesungguhnya kekayaan kita,â?? tutur Djarot di hadapan peserta Rakercabsuâ?¦</td>\n",
       "      <td>not hatespeech</td>\n",
       "      <td>not abusive</td>\n",
       "      <td>not hatespeech</td>\n",
       "      <td>not hatespeech</td>\n",
       "      <td>not hatespeech</td>\n",
       "    </tr>\n",
       "    <tr>\n",
       "      <th>165</th>\n",
       "      <td>Giat Bhabinkamtibmas Brigpol Mbs Sihombing pd hari ini, Rabu 11 April 2018 melaks sambang desa dan tatap muka sekaligus monitoring Kamtibmas menuju Pilkada 2018 di Desa Lobusiregar I, tepatnya dirumah Rudi Panjaitan, Helman Siahaan dan Hotman Siahaan</td>\n",
       "      <td>not hatespeech</td>\n",
       "      <td>not abusive</td>\n",
       "      <td>not hatespeech</td>\n",
       "      <td>not hatespeech</td>\n",
       "      <td>not hatespeech</td>\n",
       "    </tr>\n",
       "    <tr>\n",
       "      <th>182</th>\n",
       "      <td>USER USER USER USER USER USER USER USER USER USER USER USER USER USER USER USER USER USER USER USER USER</td>\n",
       "      <td>not hatespeech</td>\n",
       "      <td>not abusive</td>\n",
       "      <td>not hatespeech</td>\n",
       "      <td>not hatespeech</td>\n",
       "      <td>not hatespeech</td>\n",
       "    </tr>\n",
       "    <tr>\n",
       "      <th>...</th>\n",
       "      <td>...</td>\n",
       "      <td>...</td>\n",
       "      <td>...</td>\n",
       "      <td>...</td>\n",
       "      <td>...</td>\n",
       "      <td>...</td>\n",
       "    </tr>\n",
       "    <tr>\n",
       "      <th>12793</th>\n",
       "      <td>I added a video to a USER playlist</td>\n",
       "      <td>not hatespeech</td>\n",
       "      <td>not abusive</td>\n",
       "      <td>not hatespeech</td>\n",
       "      <td>not hatespeech</td>\n",
       "      <td>not hatespeech</td>\n",
       "    </tr>\n",
       "    <tr>\n",
       "      <th>12952</th>\n",
       "      <td>USER USER USER USER USER USER USER USER USER USER USER USER USER USER USER USER USER USER USER USER USER</td>\n",
       "      <td>not hatespeech</td>\n",
       "      <td>not abusive</td>\n",
       "      <td>not hatespeech</td>\n",
       "      <td>not hatespeech</td>\n",
       "      <td>not hatespeech</td>\n",
       "    </tr>\n",
       "    <tr>\n",
       "      <th>12953</th>\n",
       "      <td>SETUJU SAYA,KLAU AHOK DAPAT GELAR SANTRI KEHORMATAN.... TAPI SANTRI KEHORMATAN BABI.... URL</td>\n",
       "      <td>hatespeech</td>\n",
       "      <td>abusive</td>\n",
       "      <td>other hatespeech</td>\n",
       "      <td>individual hatespeech</td>\n",
       "      <td>weak hatespeech</td>\n",
       "    </tr>\n",
       "    <tr>\n",
       "      <th>12985</th>\n",
       "      <td>USER ahmad dhani yang terhormat paling babi paling anjing aing kontol paling lonte tungu saat nya karier mu akan habis!!!!</td>\n",
       "      <td>hatespeech</td>\n",
       "      <td>abusive</td>\n",
       "      <td>gender hatespeech</td>\n",
       "      <td>individual hatespeech</td>\n",
       "      <td>weak hatespeech</td>\n",
       "    </tr>\n",
       "    <tr>\n",
       "      <th>13075</th>\n",
       "      <td>*Bravoo Presiden Jokowi !ð???* Presiden Joko Widodo (Jokowi) tercatat sudah merampungkan 30 proyek strategis nasional (PSN) yang terhitung sejak 2016-2017. Apa saja?</td>\n",
       "      <td>not hatespeech</td>\n",
       "      <td>not abusive</td>\n",
       "      <td>not hatespeech</td>\n",
       "      <td>not hatespeech</td>\n",
       "      <td>not hatespeech</td>\n",
       "    </tr>\n",
       "  </tbody>\n",
       "</table>\n",
       "<p>229 rows × 6 columns</p>\n",
       "</div>"
      ],
      "text/plain": [
       "                                                                                                                                                                                                                                                             text  \\\n",
       "33                                                                                                                                                             RT USER: Kelakuan homok jaman now, ngentot aja sambil live di Blued #gayvid #gvid #lokalhangat URL   \n",
       "40                                                                                                                                                           GAPERNAH MENDALAMI AL-QURAN YA BANG??? PANTESAN MULUTNYA KAYA ORANG KAFIR BEJAT HINA farhatabbaslaw'   \n",
       "43         #GubernurZamanNow #GusIpulPuti2 #GanjarYasin1 #DjarotSihar2 #HasanAnton2 #KosterAce1 #NurdinSudirman3 #KarolinGidot2 RT USER: \"Keanekaragaman budaya, suku, agama, itulah sesungguhnya kekayaan kita,â?? tutur Djarot di hadapan peserta Rakercabsuâ?¦   \n",
       "165    Giat Bhabinkamtibmas Brigpol Mbs Sihombing pd hari ini, Rabu 11 April 2018 melaks sambang desa dan tatap muka sekaligus monitoring Kamtibmas menuju Pilkada 2018 di Desa Lobusiregar I, tepatnya dirumah Rudi Panjaitan, Helman Siahaan dan Hotman Siahaan   \n",
       "182                                                                                                                                                      USER USER USER USER USER USER USER USER USER USER USER USER USER USER USER USER USER USER USER USER USER   \n",
       "...                                                                                                                                                                                                                                                           ...   \n",
       "12793                                                                                                                                                                                                                          I added a video to a USER playlist   \n",
       "12952                                                                                                                                                    USER USER USER USER USER USER USER USER USER USER USER USER USER USER USER USER USER USER USER USER USER   \n",
       "12953                                                                                                                                                                 SETUJU SAYA,KLAU AHOK DAPAT GELAR SANTRI KEHORMATAN.... TAPI SANTRI KEHORMATAN BABI.... URL   \n",
       "12985                                                                                                                                  USER ahmad dhani yang terhormat paling babi paling anjing aing kontol paling lonte tungu saat nya karier mu akan habis!!!!   \n",
       "13075                                                                                       *Bravoo Presiden Jokowi !ð???* Presiden Joko Widodo (Jokowi) tercatat sudah merampungkan 30 proyek strategis nasional (PSN) yang terhitung sejak 2016-2017. Apa saja?   \n",
       "\n",
       "          hate_speech      abusive hate_speech_categories  \\\n",
       "33     not hatespeech  not abusive         not hatespeech   \n",
       "40         hatespeech      abusive    religion hatespeech   \n",
       "43     not hatespeech  not abusive         not hatespeech   \n",
       "165    not hatespeech  not abusive         not hatespeech   \n",
       "182    not hatespeech  not abusive         not hatespeech   \n",
       "...               ...          ...                    ...   \n",
       "12793  not hatespeech  not abusive         not hatespeech   \n",
       "12952  not hatespeech  not abusive         not hatespeech   \n",
       "12953      hatespeech      abusive       other hatespeech   \n",
       "12985      hatespeech      abusive      gender hatespeech   \n",
       "13075  not hatespeech  not abusive         not hatespeech   \n",
       "\n",
       "          hate_speech_target hate_speech_severity  \n",
       "33            not hatespeech       not hatespeech  \n",
       "40     individual hatespeech      weak hatespeech  \n",
       "43            not hatespeech       not hatespeech  \n",
       "165           not hatespeech       not hatespeech  \n",
       "182           not hatespeech       not hatespeech  \n",
       "...                      ...                  ...  \n",
       "12793         not hatespeech       not hatespeech  \n",
       "12952         not hatespeech       not hatespeech  \n",
       "12953  individual hatespeech      weak hatespeech  \n",
       "12985  individual hatespeech      weak hatespeech  \n",
       "13075         not hatespeech       not hatespeech  \n",
       "\n",
       "[229 rows x 6 columns]"
      ]
     },
     "execution_count": 7,
     "metadata": {},
     "output_type": "execute_result"
    }
   ],
   "source": [
    "df_raw[df_raw.duplicated(keep=False)]"
   ]
  },
  {
   "cell_type": "markdown",
   "id": "362ad4ed",
   "metadata": {
    "papermill": {
     "duration": 0.010175,
     "end_time": "2022-08-09T05:48:04.314049",
     "exception": false,
     "start_time": "2022-08-09T05:48:04.303874",
     "status": "completed"
    },
    "tags": []
   },
   "source": [
    "Data duplikat dihapus karena jumlahnya tidak terlalu signifikan"
   ]
  },
  {
   "cell_type": "code",
   "execution_count": 8,
   "id": "fc171d4f",
   "metadata": {
    "execution": {
     "iopub.execute_input": "2022-08-09T05:48:04.336297Z",
     "iopub.status.busy": "2022-08-09T05:48:04.335635Z",
     "iopub.status.idle": "2022-08-09T05:48:04.357248Z",
     "shell.execute_reply": "2022-08-09T05:48:04.356356Z"
    },
    "papermill": {
     "duration": 0.035043,
     "end_time": "2022-08-09T05:48:04.359304",
     "exception": false,
     "start_time": "2022-08-09T05:48:04.324261",
     "status": "completed"
    },
    "tags": []
   },
   "outputs": [],
   "source": [
    "df_raw = df_raw[df_raw[\"text\"] != \"\"]\n",
    "df_raw = df_raw.drop_duplicates().reset_index()"
   ]
  },
  {
   "cell_type": "markdown",
   "id": "57a58ec4",
   "metadata": {
    "papermill": {
     "duration": 0.010609,
     "end_time": "2022-08-09T05:48:04.380565",
     "exception": false,
     "start_time": "2022-08-09T05:48:04.369956",
     "status": "completed"
    },
    "tags": []
   },
   "source": [
    "### Preprocessing\n",
    "Method preprocessing digunakan untuk mentransformasikan teks pesan dari media sosial menjadi lebih bersih dan tidak lagi mengandung entitas yang kurang diperlukan. Beberapa hal yang dilakukan adalah :\n",
    "- Lowercasing\n",
    "- Hapus URL, mention, Hashtag\n",
    "- Hapus STOPWORDS atau kata yang sangat sering muncuk dan tidak perlu\n",
    "- Hapus selain huruf sehingga vektor nanti hanya terdiri dari kata"
   ]
  },
  {
   "cell_type": "code",
   "execution_count": 9,
   "id": "704bd1f1",
   "metadata": {
    "execution": {
     "iopub.execute_input": "2022-08-09T05:48:04.403485Z",
     "iopub.status.busy": "2022-08-09T05:48:04.403155Z",
     "iopub.status.idle": "2022-08-09T05:48:04.466607Z",
     "shell.execute_reply": "2022-08-09T05:48:04.465739Z"
    },
    "papermill": {
     "duration": 0.077991,
     "end_time": "2022-08-09T05:48:04.468871",
     "exception": false,
     "start_time": "2022-08-09T05:48:04.390880",
     "status": "completed"
    },
    "tags": []
   },
   "outputs": [],
   "source": [
    "from nltk.corpus import wordnet\n",
    "from nltk.corpus import stopwords\n",
    "from nltk.tokenize import word_tokenize\n",
    "\n",
    "from wordcloud import WordCloud\n",
    "from sklearn.feature_extraction.text import CountVectorizer\n",
    "from sklearn.feature_extraction.text import TfidfVectorizer\n",
    "\n",
    "STOPWORDS.update([\"saya\", \"user\", \"url\", \"yg\", \"lo\", \"ya\", \"rt\", \"aja\", \"nya\", \"ga\", \"gak\", \"orang\"])\n",
    "\n",
    "slangdict = pickle.load(open(\"../input/kamus-slang-word-bahasa-indonesia/kamus_alay.pkl\", 'rb'))\n",
    "slangwords = frozenset(slangdict)\n",
    "\n",
    "def show_wordcloud(data):\n",
    "    words = ''\n",
    "     \n",
    "    for sentence in data:\n",
    "        tokens = str(sentence).split()\n",
    "        for i in range(len(tokens)):\n",
    "            tokens[i] = tokens[i].lower()\n",
    "        words += \" \".join(tokens) + \" \"\n",
    "     \n",
    "    wordcloud = WordCloud(width = 800, height = 800, background_color ='white', min_font_size = 12, stopwords=STOPWORDS).generate(words)\n",
    "     \n",
    "    plt.figure(figsize = (8, 8), facecolor = None)\n",
    "    plt.imshow(wordcloud)\n",
    "    plt.axis(\"off\")\n",
    "    plt.tight_layout(pad = 0)\n",
    "     \n",
    "    plt.show()\n",
    "    \n",
    "def show_top_ngram(df_column):\n",
    "    \n",
    "    vectorizer = TfidfVectorizer(ngram_range=(2,2))\n",
    "\n",
    "    ngrams = vectorizer.fit_transform(df_column)\n",
    "    count_values = ngrams.toarray().sum(axis=0)\n",
    "    vocab = vectorizer.vocabulary_\n",
    "    df_ngram = pd.DataFrame(sorted([(count_values[i],k) for k,i in vocab.items()], reverse=True)).rename(columns={0: 'frequency', 1:'bigram/trigram'})\n",
    "\n",
    "    return df_ngram\n",
    "\n",
    "def delete_url(text):\n",
    "    links = re.findall(re.compile('((https?):((//)|(\\\\\\\\))+([\\w\\d:#@%/;$()~_?\\+-=\\\\\\.&](#!)?)*)', re.DOTALL), text)\n",
    "    for link in links:\n",
    "        text = text.replace(link[0], ' ')    \n",
    "    return text\n",
    "\n",
    "def delete_mention_tag(text):\n",
    "               \n",
    "    # filter kata yang mengandung penanda mention dan hashtag\n",
    "    words = []\n",
    "    for word in text.split():\n",
    "        word = word.strip()\n",
    "        if word:\n",
    "            if word[0] not in ['@','#']:\n",
    "                words.append(word)\n",
    "    return ' '.join(words)\n",
    "\n",
    "def slangword_converter(text):\n",
    "    list_words = text.split()\n",
    "    for i in range(len(list_words)):\n",
    "        if list_words[i] in slangwords:\n",
    "            list_words[i] = slangdict[list_words[i]]\n",
    "    text = \" \".join(list_words)\n",
    "    return text\n",
    "\n",
    "def preprocessing(text):\n",
    "    text = text.lower()                    # convert ke lowercase\n",
    "    text = delete_url(text)                # hapus URL/link\n",
    "    text = delete_mention_tag(text)        # hapus entitas mention dan hashtags\n",
    "    text = text.strip()\n",
    "    text = slangword_converter(text)\n",
    "    text = \" \".join([word for word in text.split() if not word in STOPWORDS]) \n",
    "    text = re.sub(r\" \\d+ \", \" \", text)     # hapus digit\n",
    "    text = text.translate(str.maketrans(\"\", \"\", string.punctuation))\n",
    "    text = re.sub(r\"[^a-z ]\", \"\", text)\n",
    "    text = re.sub(r\"  \", \" \", text)\n",
    "    return text\n",
    "\n",
    "def word2vec_embedding():\n",
    "    \n",
    "    dictionary = {}\n",
    "    file = open(\"../input/word2vec-bahasa-indonesia/embedding_word2vec.txt\")\n",
    "    for line in tqdm(file, desc=\"Load Vector Model \"):\n",
    "        values = line.split(' ')\n",
    "        word, coefs = values[0], np.asarray(values[1:], dtype='float32')\n",
    "        dictionary[word] = coefs\n",
    "\n",
    "    file.close()\n",
    "    return dictionary\n",
    "\n",
    "def embedding_matrix(tokenizer, embeddings_index, size):\n",
    "    embedding_matrix = np.zeros((len(tokenizer.word_index)+1, size))\n",
    "\n",
    "    for word, i in tokenizer.word_index.items():\n",
    "        embedding_vector = embeddings_index.get(word)\n",
    "        if embedding_vector is not None:\n",
    "            embedding_matrix[i] = embedding_vector\n",
    "    return embedding_matrix"
   ]
  },
  {
   "cell_type": "code",
   "execution_count": 10,
   "id": "d067b579",
   "metadata": {
    "execution": {
     "iopub.execute_input": "2022-08-09T05:48:04.490351Z",
     "iopub.status.busy": "2022-08-09T05:48:04.490075Z",
     "iopub.status.idle": "2022-08-09T05:48:05.060713Z",
     "shell.execute_reply": "2022-08-09T05:48:05.059738Z"
    },
    "papermill": {
     "duration": 0.584064,
     "end_time": "2022-08-09T05:48:05.063165",
     "exception": false,
     "start_time": "2022-08-09T05:48:04.479101",
     "status": "completed"
    },
    "tags": []
   },
   "outputs": [],
   "source": [
    "df_raw['text'] = df_raw.apply(lambda row: preprocessing(row.text), axis=1)"
   ]
  },
  {
   "cell_type": "markdown",
   "id": "778903f7",
   "metadata": {
    "papermill": {
     "duration": 0.010563,
     "end_time": "2022-08-09T05:48:05.084613",
     "exception": false,
     "start_time": "2022-08-09T05:48:05.074050",
     "status": "completed"
    },
    "tags": []
   },
   "source": [
    "## Eksperimen Model"
   ]
  },
  {
   "cell_type": "markdown",
   "id": "89a15445",
   "metadata": {
    "papermill": {
     "duration": 0.009949,
     "end_time": "2022-08-09T05:48:05.104673",
     "exception": false,
     "start_time": "2022-08-09T05:48:05.094724",
     "status": "completed"
    },
    "tags": []
   },
   "source": [
    "### Splitting Data"
   ]
  },
  {
   "cell_type": "code",
   "execution_count": 11,
   "id": "e19a4283",
   "metadata": {
    "execution": {
     "iopub.execute_input": "2022-08-09T05:48:05.127018Z",
     "iopub.status.busy": "2022-08-09T05:48:05.125854Z",
     "iopub.status.idle": "2022-08-09T05:48:05.291785Z",
     "shell.execute_reply": "2022-08-09T05:48:05.290776Z"
    },
    "papermill": {
     "duration": 0.179624,
     "end_time": "2022-08-09T05:48:05.294321",
     "exception": false,
     "start_time": "2022-08-09T05:48:05.114697",
     "status": "completed"
    },
    "tags": []
   },
   "outputs": [],
   "source": [
    "from sklearn.model_selection import train_test_split\n",
    "\n",
    "df_raw['hate_speech'] = df_raw.apply(lambda row: 1 if row.hate_speech == \"hatespeech\" else 0, axis=1)\n",
    "\n",
    "X = df_raw[[\"text\"]]\n",
    "y = df_raw['hate_speech']\n",
    "\n",
    "X_train_raw, X_test_raw, y_train_raw, y_test_raw = train_test_split(X, y, test_size=0.1, random_state=11)"
   ]
  },
  {
   "cell_type": "markdown",
   "id": "b8f8e66c",
   "metadata": {
    "papermill": {
     "duration": 0.010071,
     "end_time": "2022-08-09T05:48:05.315777",
     "exception": false,
     "start_time": "2022-08-09T05:48:05.305706",
     "status": "completed"
    },
    "tags": []
   },
   "source": [
    "## Deep Learning with Word Embeddings"
   ]
  },
  {
   "cell_type": "code",
   "execution_count": 12,
   "id": "1957ca85",
   "metadata": {
    "execution": {
     "iopub.execute_input": "2022-08-09T05:48:05.338668Z",
     "iopub.status.busy": "2022-08-09T05:48:05.337085Z",
     "iopub.status.idle": "2022-08-09T05:48:05.343597Z",
     "shell.execute_reply": "2022-08-09T05:48:05.342724Z"
    },
    "papermill": {
     "duration": 0.019631,
     "end_time": "2022-08-09T05:48:05.345574",
     "exception": false,
     "start_time": "2022-08-09T05:48:05.325943",
     "status": "completed"
    },
    "tags": []
   },
   "outputs": [],
   "source": [
    "X_train = X_train_raw['text'].values\n",
    "X_test  = X_test_raw['text'].values\n",
    "\n",
    "y_train = y_train_raw.values\n",
    "y_test  = y_test_raw.values"
   ]
  },
  {
   "cell_type": "code",
   "execution_count": 13,
   "id": "0eb6324e",
   "metadata": {
    "execution": {
     "iopub.execute_input": "2022-08-09T05:48:05.368377Z",
     "iopub.status.busy": "2022-08-09T05:48:05.366731Z",
     "iopub.status.idle": "2022-08-09T05:48:06.028092Z",
     "shell.execute_reply": "2022-08-09T05:48:06.026958Z"
    },
    "papermill": {
     "duration": 0.674689,
     "end_time": "2022-08-09T05:48:06.030345",
     "exception": false,
     "start_time": "2022-08-09T05:48:05.355656",
     "status": "completed"
    },
    "tags": []
   },
   "outputs": [
    {
     "name": "stdout",
     "output_type": "stream",
     "text": [
      "(11736, 50)\n",
      "(1304, 50)\n"
     ]
    }
   ],
   "source": [
    "tokenizer = Tokenizer(num_words=30000)\n",
    "tokenizer.fit_on_texts(list(X_train))\n",
    "\n",
    "X_train = tokenizer.texts_to_sequences(X_train)\n",
    "X_test  = tokenizer.texts_to_sequences(X_test)\n",
    "\n",
    "X_train = sequence.pad_sequences(X_train, maxlen=50)\n",
    "X_test  = sequence.pad_sequences(X_test, maxlen=50)\n",
    "\n",
    "print(X_train.shape)\n",
    "print(X_test.shape)"
   ]
  },
  {
   "cell_type": "code",
   "execution_count": 14,
   "id": "c793654c",
   "metadata": {
    "execution": {
     "iopub.execute_input": "2022-08-09T05:48:06.052993Z",
     "iopub.status.busy": "2022-08-09T05:48:06.052079Z",
     "iopub.status.idle": "2022-08-09T05:48:12.473707Z",
     "shell.execute_reply": "2022-08-09T05:48:12.471911Z"
    },
    "papermill": {
     "duration": 6.435477,
     "end_time": "2022-08-09T05:48:12.476327",
     "exception": false,
     "start_time": "2022-08-09T05:48:06.040850",
     "status": "completed"
    },
    "tags": []
   },
   "outputs": [
    {
     "name": "stderr",
     "output_type": "stream",
     "text": [
      "Load Vector Model : 466063it [00:06, 73041.42it/s]\n"
     ]
    }
   ],
   "source": [
    "word2vec_index = word2vec_embedding()\n",
    "word2vec_matrix = embedding_matrix(tokenizer, word2vec_index, 50)"
   ]
  },
  {
   "cell_type": "markdown",
   "id": "37579712",
   "metadata": {
    "papermill": {
     "duration": 0.027506,
     "end_time": "2022-08-09T05:48:12.518231",
     "exception": false,
     "start_time": "2022-08-09T05:48:12.490725",
     "status": "completed"
    },
    "tags": []
   },
   "source": [
    "### Model RNN with Word2Vec Embedding\n",
    "Model diadaptasi dari pustaka [ini](https://medium.com/@nehabhangale/toxic-comment-classification-models-comparison-and-selection-6c02add9d39f)"
   ]
  },
  {
   "cell_type": "code",
   "execution_count": 15,
   "id": "94bec358",
   "metadata": {
    "execution": {
     "iopub.execute_input": "2022-08-09T05:48:12.577424Z",
     "iopub.status.busy": "2022-08-09T05:48:12.576926Z",
     "iopub.status.idle": "2022-08-09T05:48:21.535859Z",
     "shell.execute_reply": "2022-08-09T05:48:21.534891Z"
    },
    "papermill": {
     "duration": 8.995544,
     "end_time": "2022-08-09T05:48:21.538168",
     "exception": false,
     "start_time": "2022-08-09T05:48:12.542624",
     "status": "completed"
    },
    "tags": []
   },
   "outputs": [
    {
     "name": "stderr",
     "output_type": "stream",
     "text": [
      "2022-08-09 05:48:12.639594: I tensorflow/stream_executor/cuda/cuda_gpu_executor.cc:937] successful NUMA node read from SysFS had negative value (-1), but there must be at least one NUMA node, so returning NUMA node zero\n",
      "2022-08-09 05:48:12.641835: I tensorflow/stream_executor/cuda/cuda_gpu_executor.cc:937] successful NUMA node read from SysFS had negative value (-1), but there must be at least one NUMA node, so returning NUMA node zero\n",
      "2022-08-09 05:48:12.642965: I tensorflow/stream_executor/cuda/cuda_gpu_executor.cc:937] successful NUMA node read from SysFS had negative value (-1), but there must be at least one NUMA node, so returning NUMA node zero\n",
      "2022-08-09 05:48:12.644282: I tensorflow/core/platform/cpu_feature_guard.cc:142] This TensorFlow binary is optimized with oneAPI Deep Neural Network Library (oneDNN) to use the following CPU instructions in performance-critical operations:  AVX2 AVX512F FMA\n",
      "To enable them in other operations, rebuild TensorFlow with the appropriate compiler flags.\n",
      "2022-08-09 05:48:12.644608: I tensorflow/stream_executor/cuda/cuda_gpu_executor.cc:937] successful NUMA node read from SysFS had negative value (-1), but there must be at least one NUMA node, so returning NUMA node zero\n",
      "2022-08-09 05:48:12.645783: I tensorflow/stream_executor/cuda/cuda_gpu_executor.cc:937] successful NUMA node read from SysFS had negative value (-1), but there must be at least one NUMA node, so returning NUMA node zero\n",
      "2022-08-09 05:48:12.647017: I tensorflow/stream_executor/cuda/cuda_gpu_executor.cc:937] successful NUMA node read from SysFS had negative value (-1), but there must be at least one NUMA node, so returning NUMA node zero\n",
      "2022-08-09 05:48:20.647151: I tensorflow/stream_executor/cuda/cuda_gpu_executor.cc:937] successful NUMA node read from SysFS had negative value (-1), but there must be at least one NUMA node, so returning NUMA node zero\n",
      "2022-08-09 05:48:20.648108: I tensorflow/stream_executor/cuda/cuda_gpu_executor.cc:937] successful NUMA node read from SysFS had negative value (-1), but there must be at least one NUMA node, so returning NUMA node zero\n",
      "2022-08-09 05:48:20.648837: I tensorflow/stream_executor/cuda/cuda_gpu_executor.cc:937] successful NUMA node read from SysFS had negative value (-1), but there must be at least one NUMA node, so returning NUMA node zero\n",
      "2022-08-09 05:48:20.649413: I tensorflow/core/common_runtime/gpu/gpu_device.cc:1510] Created device /job:localhost/replica:0/task:0/device:GPU:0 with 14653 MB memory:  -> device: 0, name: Tesla P100-PCIE-16GB, pci bus id: 0000:00:04.0, compute capability: 6.0\n"
     ]
    }
   ],
   "source": [
    "model = Sequential()\n",
    "\n",
    "model.add(Embedding(input_dim=word2vec_matrix.shape[0], input_length=50, output_dim=word2vec_matrix.shape[1], weights=[word2vec_matrix], trainable=False))\n",
    "model.add(SpatialDropout1D(0.5))\n",
    "model.add(Bidirectional(LSTM(60, return_sequences=True)))\n",
    "model.add(Conv1D(filters=128, kernel_size=5, padding='same', activation='relu'))\n",
    "model.add(MaxPooling1D(3))\n",
    "model.add(GlobalMaxPool1D())\n",
    "model.add(BatchNormalization())\n",
    "model.add(Dropout(0.5))\n",
    "model.add(Dense(100, activation='relu'))\n",
    "model.add(Dense(2, activation='softmax'))"
   ]
  },
  {
   "cell_type": "code",
   "execution_count": 16,
   "id": "83b368a4",
   "metadata": {
    "execution": {
     "iopub.execute_input": "2022-08-09T05:48:21.567302Z",
     "iopub.status.busy": "2022-08-09T05:48:21.566659Z",
     "iopub.status.idle": "2022-08-09T05:48:21.575266Z",
     "shell.execute_reply": "2022-08-09T05:48:21.574139Z"
    },
    "papermill": {
     "duration": 0.025961,
     "end_time": "2022-08-09T05:48:21.578138",
     "exception": false,
     "start_time": "2022-08-09T05:48:21.552177",
     "status": "completed"
    },
    "tags": []
   },
   "outputs": [
    {
     "name": "stdout",
     "output_type": "stream",
     "text": [
      "Model: \"sequential\"\n",
      "_________________________________________________________________\n",
      "Layer (type)                 Output Shape              Param #   \n",
      "=================================================================\n",
      "embedding (Embedding)        (None, 50, 50)            1209200   \n",
      "_________________________________________________________________\n",
      "spatial_dropout1d (SpatialDr (None, 50, 50)            0         \n",
      "_________________________________________________________________\n",
      "bidirectional (Bidirectional (None, 50, 120)           53280     \n",
      "_________________________________________________________________\n",
      "conv1d (Conv1D)              (None, 50, 128)           76928     \n",
      "_________________________________________________________________\n",
      "max_pooling1d (MaxPooling1D) (None, 16, 128)           0         \n",
      "_________________________________________________________________\n",
      "global_max_pooling1d (Global (None, 128)               0         \n",
      "_________________________________________________________________\n",
      "batch_normalization (BatchNo (None, 128)               512       \n",
      "_________________________________________________________________\n",
      "dropout (Dropout)            (None, 128)               0         \n",
      "_________________________________________________________________\n",
      "dense (Dense)                (None, 100)               12900     \n",
      "_________________________________________________________________\n",
      "dense_1 (Dense)              (None, 2)                 202       \n",
      "=================================================================\n",
      "Total params: 1,353,022\n",
      "Trainable params: 143,566\n",
      "Non-trainable params: 1,209,456\n",
      "_________________________________________________________________\n"
     ]
    }
   ],
   "source": [
    "model.summary()"
   ]
  },
  {
   "cell_type": "code",
   "execution_count": 17,
   "id": "fe87bd59",
   "metadata": {
    "execution": {
     "iopub.execute_input": "2022-08-09T05:48:21.606508Z",
     "iopub.status.busy": "2022-08-09T05:48:21.606218Z",
     "iopub.status.idle": "2022-08-09T05:50:53.410721Z",
     "shell.execute_reply": "2022-08-09T05:50:53.409409Z"
    },
    "papermill": {
     "duration": 151.821967,
     "end_time": "2022-08-09T05:50:53.413866",
     "exception": false,
     "start_time": "2022-08-09T05:48:21.591899",
     "status": "completed"
    },
    "tags": []
   },
   "outputs": [
    {
     "name": "stdout",
     "output_type": "stream",
     "text": [
      "Epoch 1/50\n"
     ]
    },
    {
     "name": "stderr",
     "output_type": "stream",
     "text": [
      "2022-08-09 05:48:21.664352: I tensorflow/compiler/mlir/mlir_graph_optimization_pass.cc:185] None of the MLIR Optimization Passes are enabled (registered 2)\n",
      "2022-08-09 05:48:25.445960: I tensorflow/stream_executor/cuda/cuda_dnn.cc:369] Loaded cuDNN version 8005\n"
     ]
    },
    {
     "name": "stdout",
     "output_type": "stream",
     "text": [
      "331/331 [==============================] - 14s 11ms/step - loss: 0.6867 - accuracy: 0.6075 - val_loss: 0.6746 - val_accuracy: 0.5494\n",
      "Epoch 2/50\n",
      "331/331 [==============================] - 3s 8ms/step - loss: 0.6413 - accuracy: 0.6423 - val_loss: 0.5987 - val_accuracy: 0.7070\n",
      "Epoch 3/50\n",
      "331/331 [==============================] - 3s 8ms/step - loss: 0.6290 - accuracy: 0.6415 - val_loss: 0.5858 - val_accuracy: 0.7104\n",
      "Epoch 4/50\n",
      "331/331 [==============================] - 3s 8ms/step - loss: 0.6180 - accuracy: 0.6560 - val_loss: 0.5679 - val_accuracy: 0.7291\n",
      "Epoch 5/50\n",
      "331/331 [==============================] - 3s 9ms/step - loss: 0.6113 - accuracy: 0.6653 - val_loss: 0.5726 - val_accuracy: 0.7002\n",
      "Epoch 6/50\n",
      "331/331 [==============================] - 3s 8ms/step - loss: 0.6078 - accuracy: 0.6706 - val_loss: 0.5782 - val_accuracy: 0.7070\n",
      "Epoch 7/50\n",
      "331/331 [==============================] - 3s 8ms/step - loss: 0.5965 - accuracy: 0.6759 - val_loss: 0.5698 - val_accuracy: 0.6908\n",
      "Epoch 8/50\n",
      "331/331 [==============================] - 3s 8ms/step - loss: 0.5987 - accuracy: 0.6789 - val_loss: 0.5895 - val_accuracy: 0.6695\n",
      "Epoch 9/50\n",
      "331/331 [==============================] - 3s 9ms/step - loss: 0.5918 - accuracy: 0.6805 - val_loss: 0.5742 - val_accuracy: 0.7019\n",
      "Epoch 10/50\n",
      "331/331 [==============================] - 3s 8ms/step - loss: 0.5889 - accuracy: 0.6825 - val_loss: 0.5612 - val_accuracy: 0.7002\n",
      "Epoch 11/50\n",
      "331/331 [==============================] - 3s 9ms/step - loss: 0.5782 - accuracy: 0.6949 - val_loss: 0.5351 - val_accuracy: 0.7376\n",
      "Epoch 12/50\n",
      "331/331 [==============================] - 3s 8ms/step - loss: 0.5805 - accuracy: 0.6937 - val_loss: 0.5572 - val_accuracy: 0.7334\n",
      "Epoch 13/50\n",
      "331/331 [==============================] - 3s 9ms/step - loss: 0.5760 - accuracy: 0.7011 - val_loss: 0.5506 - val_accuracy: 0.7112\n",
      "Epoch 14/50\n",
      "331/331 [==============================] - 3s 8ms/step - loss: 0.5634 - accuracy: 0.7076 - val_loss: 0.5363 - val_accuracy: 0.7240\n",
      "Epoch 15/50\n",
      "331/331 [==============================] - 3s 9ms/step - loss: 0.5597 - accuracy: 0.7099 - val_loss: 0.5306 - val_accuracy: 0.7198\n",
      "Epoch 16/50\n",
      "331/331 [==============================] - 3s 8ms/step - loss: 0.5617 - accuracy: 0.7058 - val_loss: 0.5434 - val_accuracy: 0.7394\n",
      "Epoch 17/50\n",
      "331/331 [==============================] - 3s 9ms/step - loss: 0.5584 - accuracy: 0.7134 - val_loss: 0.5282 - val_accuracy: 0.7257\n",
      "Epoch 18/50\n",
      "331/331 [==============================] - 3s 8ms/step - loss: 0.5469 - accuracy: 0.7155 - val_loss: 0.5341 - val_accuracy: 0.7172\n",
      "Epoch 19/50\n",
      "331/331 [==============================] - 3s 8ms/step - loss: 0.5501 - accuracy: 0.7186 - val_loss: 0.5189 - val_accuracy: 0.7402\n",
      "Epoch 20/50\n",
      "331/331 [==============================] - 3s 8ms/step - loss: 0.5448 - accuracy: 0.7218 - val_loss: 0.5198 - val_accuracy: 0.7266\n",
      "Epoch 21/50\n",
      "331/331 [==============================] - 3s 9ms/step - loss: 0.5395 - accuracy: 0.7238 - val_loss: 0.5168 - val_accuracy: 0.7487\n",
      "Epoch 22/50\n",
      "331/331 [==============================] - 3s 8ms/step - loss: 0.5431 - accuracy: 0.7202 - val_loss: 0.5340 - val_accuracy: 0.7334\n",
      "Epoch 23/50\n",
      "331/331 [==============================] - 3s 10ms/step - loss: 0.5334 - accuracy: 0.7229 - val_loss: 0.5171 - val_accuracy: 0.7385\n",
      "Epoch 24/50\n",
      "331/331 [==============================] - 3s 8ms/step - loss: 0.5320 - accuracy: 0.7350 - val_loss: 0.5121 - val_accuracy: 0.7462\n",
      "Epoch 25/50\n",
      "331/331 [==============================] - 3s 9ms/step - loss: 0.5311 - accuracy: 0.7307 - val_loss: 0.5137 - val_accuracy: 0.7436\n",
      "Epoch 26/50\n",
      "331/331 [==============================] - 3s 8ms/step - loss: 0.5252 - accuracy: 0.7346 - val_loss: 0.6202 - val_accuracy: 0.6908\n",
      "Epoch 27/50\n",
      "331/331 [==============================] - 3s 8ms/step - loss: 0.5218 - accuracy: 0.7354 - val_loss: 0.5296 - val_accuracy: 0.7334\n",
      "Epoch 28/50\n",
      "331/331 [==============================] - 3s 8ms/step - loss: 0.5197 - accuracy: 0.7418 - val_loss: 0.5349 - val_accuracy: 0.7249\n",
      "Epoch 29/50\n",
      "331/331 [==============================] - 3s 9ms/step - loss: 0.5231 - accuracy: 0.7320 - val_loss: 0.5034 - val_accuracy: 0.7547\n",
      "Epoch 30/50\n",
      "331/331 [==============================] - 3s 8ms/step - loss: 0.5192 - accuracy: 0.7381 - val_loss: 0.5176 - val_accuracy: 0.7479\n",
      "Epoch 31/50\n",
      "331/331 [==============================] - 3s 8ms/step - loss: 0.5157 - accuracy: 0.7437 - val_loss: 0.5040 - val_accuracy: 0.7649\n",
      "Epoch 32/50\n",
      "331/331 [==============================] - 3s 8ms/step - loss: 0.5110 - accuracy: 0.7470 - val_loss: 0.5648 - val_accuracy: 0.7112\n",
      "Epoch 33/50\n",
      "331/331 [==============================] - 3s 9ms/step - loss: 0.5095 - accuracy: 0.7439 - val_loss: 0.5121 - val_accuracy: 0.7538\n",
      "Epoch 34/50\n",
      "331/331 [==============================] - 3s 9ms/step - loss: 0.5078 - accuracy: 0.7474 - val_loss: 0.6511 - val_accuracy: 0.6388\n",
      "Epoch 35/50\n",
      "331/331 [==============================] - 3s 9ms/step - loss: 0.5084 - accuracy: 0.7467 - val_loss: 0.5225 - val_accuracy: 0.7462\n",
      "Epoch 36/50\n",
      "331/331 [==============================] - 3s 9ms/step - loss: 0.5016 - accuracy: 0.7556 - val_loss: 0.4952 - val_accuracy: 0.7632\n",
      "Epoch 37/50\n",
      "331/331 [==============================] - 3s 9ms/step - loss: 0.5094 - accuracy: 0.7474 - val_loss: 0.4891 - val_accuracy: 0.7555\n",
      "Epoch 38/50\n",
      "331/331 [==============================] - 3s 8ms/step - loss: 0.5034 - accuracy: 0.7504 - val_loss: 0.5094 - val_accuracy: 0.7359\n",
      "Epoch 39/50\n",
      "331/331 [==============================] - 3s 8ms/step - loss: 0.5014 - accuracy: 0.7472 - val_loss: 0.4854 - val_accuracy: 0.7658\n",
      "Epoch 40/50\n",
      "331/331 [==============================] - 3s 9ms/step - loss: 0.4942 - accuracy: 0.7548 - val_loss: 0.5097 - val_accuracy: 0.7547\n",
      "Epoch 41/50\n",
      "331/331 [==============================] - 3s 8ms/step - loss: 0.4934 - accuracy: 0.7571 - val_loss: 0.4815 - val_accuracy: 0.7641\n",
      "Epoch 42/50\n",
      "331/331 [==============================] - 3s 8ms/step - loss: 0.4896 - accuracy: 0.7596 - val_loss: 0.5186 - val_accuracy: 0.7555\n",
      "Epoch 43/50\n",
      "331/331 [==============================] - 3s 8ms/step - loss: 0.4887 - accuracy: 0.7548 - val_loss: 0.4884 - val_accuracy: 0.7564\n",
      "Epoch 44/50\n",
      "331/331 [==============================] - 3s 9ms/step - loss: 0.4825 - accuracy: 0.7619 - val_loss: 0.4846 - val_accuracy: 0.7641\n",
      "Epoch 45/50\n",
      "331/331 [==============================] - 3s 8ms/step - loss: 0.4893 - accuracy: 0.7582 - val_loss: 0.4871 - val_accuracy: 0.7641\n",
      "Epoch 46/50\n",
      "331/331 [==============================] - 3s 10ms/step - loss: 0.4822 - accuracy: 0.7671 - val_loss: 0.4929 - val_accuracy: 0.7615\n",
      "Epoch 47/50\n",
      "331/331 [==============================] - 3s 8ms/step - loss: 0.4855 - accuracy: 0.7630 - val_loss: 0.5516 - val_accuracy: 0.6968\n",
      "Epoch 48/50\n",
      "331/331 [==============================] - 3s 9ms/step - loss: 0.4709 - accuracy: 0.7708 - val_loss: 0.4856 - val_accuracy: 0.7692\n",
      "Epoch 49/50\n",
      "331/331 [==============================] - 3s 8ms/step - loss: 0.4838 - accuracy: 0.7638 - val_loss: 0.4834 - val_accuracy: 0.7743\n",
      "Epoch 50/50\n",
      "331/331 [==============================] - 3s 8ms/step - loss: 0.4767 - accuracy: 0.7691 - val_loss: 0.4772 - val_accuracy: 0.7675\n"
     ]
    }
   ],
   "source": [
    "model.compile(optimizer='adam', loss=tf.keras.losses.SparseCategoricalCrossentropy(), metrics=['accuracy'])\n",
    "model_hist = model.fit(X_train, y_train, batch_size=32, epochs=50, validation_split=0.1)"
   ]
  },
  {
   "cell_type": "code",
   "execution_count": 18,
   "id": "f7130436",
   "metadata": {
    "execution": {
     "iopub.execute_input": "2022-08-09T05:50:53.705648Z",
     "iopub.status.busy": "2022-08-09T05:50:53.705265Z",
     "iopub.status.idle": "2022-08-09T05:50:54.455433Z",
     "shell.execute_reply": "2022-08-09T05:50:54.454377Z"
    },
    "papermill": {
     "duration": 0.898388,
     "end_time": "2022-08-09T05:50:54.457902",
     "exception": false,
     "start_time": "2022-08-09T05:50:53.559514",
     "status": "completed"
    },
    "tags": []
   },
   "outputs": [],
   "source": [
    "prediction = model.predict(X_test)\n",
    "re = []\n",
    "for predict in prediction:\n",
    "    label = np.argmax(predict)\n",
    "    re.append(label)\n",
    "    \n",
    "re = np.array(re)"
   ]
  },
  {
   "cell_type": "code",
   "execution_count": 19,
   "id": "0c80a687",
   "metadata": {
    "execution": {
     "iopub.execute_input": "2022-08-09T05:50:54.746137Z",
     "iopub.status.busy": "2022-08-09T05:50:54.745212Z",
     "iopub.status.idle": "2022-08-09T05:50:54.757192Z",
     "shell.execute_reply": "2022-08-09T05:50:54.756124Z"
    },
    "papermill": {
     "duration": 0.159632,
     "end_time": "2022-08-09T05:50:54.760482",
     "exception": false,
     "start_time": "2022-08-09T05:50:54.600850",
     "status": "completed"
    },
    "tags": []
   },
   "outputs": [
    {
     "name": "stdout",
     "output_type": "stream",
     "text": [
      "              precision    recall  f1-score   support\n",
      "\n",
      "           0       0.77      0.85      0.81       751\n",
      "           1       0.76      0.65      0.70       553\n",
      "\n",
      "    accuracy                           0.77      1304\n",
      "   macro avg       0.77      0.75      0.76      1304\n",
      "weighted avg       0.77      0.77      0.76      1304\n",
      "\n"
     ]
    }
   ],
   "source": [
    "from sklearn.metrics import classification_report\n",
    "print(classification_report(y_test, re))"
   ]
  },
  {
   "cell_type": "markdown",
   "id": "818caac0",
   "metadata": {
    "papermill": {
     "duration": 0.145416,
     "end_time": "2022-08-09T05:50:55.106298",
     "exception": false,
     "start_time": "2022-08-09T05:50:54.960882",
     "status": "completed"
    },
    "tags": []
   },
   "source": [
    "### Model CNN with Word2Vec Embedding\n",
    "Model diadaptasi dari pustaka [ini](https://medium.com/@nehabhangale/toxic-comment-classification-models-comparison-and-selection-6c02add9d39f)"
   ]
  },
  {
   "cell_type": "code",
   "execution_count": 20,
   "id": "179011bb",
   "metadata": {
    "execution": {
     "iopub.execute_input": "2022-08-09T05:50:55.391402Z",
     "iopub.status.busy": "2022-08-09T05:50:55.391042Z",
     "iopub.status.idle": "2022-08-09T05:50:55.459584Z",
     "shell.execute_reply": "2022-08-09T05:50:55.458660Z"
    },
    "papermill": {
     "duration": 0.212786,
     "end_time": "2022-08-09T05:50:55.461742",
     "exception": false,
     "start_time": "2022-08-09T05:50:55.248956",
     "status": "completed"
    },
    "tags": []
   },
   "outputs": [],
   "source": [
    "model = Sequential()\n",
    "\n",
    "model.add(Embedding(input_dim=word2vec_matrix.shape[0], input_length=50, output_dim=word2vec_matrix.shape[1], weights=[word2vec_matrix], trainable=False))\n",
    "model.add(SpatialDropout1D(0.2))\n",
    "model.add(Conv1D(filters=128, kernel_size=5, padding='same', activation='relu'))\n",
    "model.add(MaxPooling1D(3))\n",
    "model.add(GlobalMaxPool1D())\n",
    "model.add(BatchNormalization())\n",
    "model.add(Dropout(0.5))\n",
    "model.add(Dense(100, activation='relu'))\n",
    "model.add(Dense(2, activation='softmax'))"
   ]
  },
  {
   "cell_type": "code",
   "execution_count": 21,
   "id": "7c91febb",
   "metadata": {
    "execution": {
     "iopub.execute_input": "2022-08-09T05:50:55.746194Z",
     "iopub.status.busy": "2022-08-09T05:50:55.745844Z",
     "iopub.status.idle": "2022-08-09T05:50:55.752176Z",
     "shell.execute_reply": "2022-08-09T05:50:55.751172Z"
    },
    "papermill": {
     "duration": 0.154453,
     "end_time": "2022-08-09T05:50:55.756390",
     "exception": false,
     "start_time": "2022-08-09T05:50:55.601937",
     "status": "completed"
    },
    "tags": []
   },
   "outputs": [
    {
     "name": "stdout",
     "output_type": "stream",
     "text": [
      "Model: \"sequential_1\"\n",
      "_________________________________________________________________\n",
      "Layer (type)                 Output Shape              Param #   \n",
      "=================================================================\n",
      "embedding_1 (Embedding)      (None, 50, 50)            1209200   \n",
      "_________________________________________________________________\n",
      "spatial_dropout1d_1 (Spatial (None, 50, 50)            0         \n",
      "_________________________________________________________________\n",
      "conv1d_1 (Conv1D)            (None, 50, 128)           32128     \n",
      "_________________________________________________________________\n",
      "max_pooling1d_1 (MaxPooling1 (None, 16, 128)           0         \n",
      "_________________________________________________________________\n",
      "global_max_pooling1d_1 (Glob (None, 128)               0         \n",
      "_________________________________________________________________\n",
      "batch_normalization_1 (Batch (None, 128)               512       \n",
      "_________________________________________________________________\n",
      "dropout_1 (Dropout)          (None, 128)               0         \n",
      "_________________________________________________________________\n",
      "dense_2 (Dense)              (None, 100)               12900     \n",
      "_________________________________________________________________\n",
      "dense_3 (Dense)              (None, 2)                 202       \n",
      "=================================================================\n",
      "Total params: 1,254,942\n",
      "Trainable params: 45,486\n",
      "Non-trainable params: 1,209,456\n",
      "_________________________________________________________________\n"
     ]
    }
   ],
   "source": [
    "model.summary()"
   ]
  },
  {
   "cell_type": "code",
   "execution_count": 22,
   "id": "997db1ab",
   "metadata": {
    "execution": {
     "iopub.execute_input": "2022-08-09T05:50:56.045349Z",
     "iopub.status.busy": "2022-08-09T05:50:56.044940Z",
     "iopub.status.idle": "2022-08-09T05:52:18.551644Z",
     "shell.execute_reply": "2022-08-09T05:52:18.550488Z"
    },
    "papermill": {
     "duration": 82.654885,
     "end_time": "2022-08-09T05:52:18.554490",
     "exception": false,
     "start_time": "2022-08-09T05:50:55.899605",
     "status": "completed"
    },
    "tags": []
   },
   "outputs": [
    {
     "name": "stdout",
     "output_type": "stream",
     "text": [
      "Epoch 1/50\n",
      "331/331 [==============================] - 2s 5ms/step - loss: 0.6821 - accuracy: 0.6190 - val_loss: 0.6116 - val_accuracy: 0.7164\n",
      "Epoch 2/50\n",
      "331/331 [==============================] - 1s 3ms/step - loss: 0.5923 - accuracy: 0.6839 - val_loss: 0.5345 - val_accuracy: 0.7274\n",
      "Epoch 3/50\n",
      "331/331 [==============================] - 1s 3ms/step - loss: 0.5635 - accuracy: 0.7049 - val_loss: 0.5319 - val_accuracy: 0.7223\n",
      "Epoch 4/50\n",
      "331/331 [==============================] - 1s 3ms/step - loss: 0.5417 - accuracy: 0.7191 - val_loss: 0.5238 - val_accuracy: 0.7257\n",
      "Epoch 5/50\n",
      "331/331 [==============================] - 1s 3ms/step - loss: 0.5287 - accuracy: 0.7270 - val_loss: 0.5000 - val_accuracy: 0.7479\n",
      "Epoch 6/50\n",
      "331/331 [==============================] - 1s 3ms/step - loss: 0.5053 - accuracy: 0.7407 - val_loss: 0.4981 - val_accuracy: 0.7436\n",
      "Epoch 7/50\n",
      "331/331 [==============================] - 1s 3ms/step - loss: 0.5079 - accuracy: 0.7432 - val_loss: 0.4969 - val_accuracy: 0.7479\n",
      "Epoch 8/50\n",
      "331/331 [==============================] - 1s 3ms/step - loss: 0.4936 - accuracy: 0.7503 - val_loss: 0.4933 - val_accuracy: 0.7521\n",
      "Epoch 9/50\n",
      "331/331 [==============================] - 1s 3ms/step - loss: 0.4781 - accuracy: 0.7628 - val_loss: 0.4867 - val_accuracy: 0.7598\n",
      "Epoch 10/50\n",
      "331/331 [==============================] - 1s 3ms/step - loss: 0.4701 - accuracy: 0.7678 - val_loss: 0.4894 - val_accuracy: 0.7615\n",
      "Epoch 11/50\n",
      "331/331 [==============================] - 1s 4ms/step - loss: 0.4660 - accuracy: 0.7704 - val_loss: 0.4911 - val_accuracy: 0.7530\n",
      "Epoch 12/50\n",
      "331/331 [==============================] - 1s 3ms/step - loss: 0.4661 - accuracy: 0.7645 - val_loss: 0.4869 - val_accuracy: 0.7555\n",
      "Epoch 13/50\n",
      "331/331 [==============================] - 1s 3ms/step - loss: 0.4580 - accuracy: 0.7753 - val_loss: 0.4827 - val_accuracy: 0.7598\n",
      "Epoch 14/50\n",
      "331/331 [==============================] - 2s 5ms/step - loss: 0.4564 - accuracy: 0.7803 - val_loss: 0.4878 - val_accuracy: 0.7666\n",
      "Epoch 15/50\n",
      "331/331 [==============================] - 1s 4ms/step - loss: 0.4404 - accuracy: 0.7923 - val_loss: 0.4732 - val_accuracy: 0.7734\n",
      "Epoch 16/50\n",
      "331/331 [==============================] - 1s 3ms/step - loss: 0.4449 - accuracy: 0.7820 - val_loss: 0.4808 - val_accuracy: 0.7624\n",
      "Epoch 17/50\n",
      "331/331 [==============================] - 1s 3ms/step - loss: 0.4341 - accuracy: 0.7894 - val_loss: 0.4808 - val_accuracy: 0.7666\n",
      "Epoch 18/50\n",
      "331/331 [==============================] - 1s 3ms/step - loss: 0.4351 - accuracy: 0.7886 - val_loss: 0.4757 - val_accuracy: 0.7692\n",
      "Epoch 19/50\n",
      "331/331 [==============================] - 1s 3ms/step - loss: 0.4340 - accuracy: 0.7878 - val_loss: 0.4785 - val_accuracy: 0.7666\n",
      "Epoch 20/50\n",
      "331/331 [==============================] - 1s 4ms/step - loss: 0.4237 - accuracy: 0.7945 - val_loss: 0.4702 - val_accuracy: 0.7658\n",
      "Epoch 21/50\n",
      "331/331 [==============================] - 1s 3ms/step - loss: 0.4220 - accuracy: 0.7963 - val_loss: 0.4797 - val_accuracy: 0.7547\n",
      "Epoch 22/50\n",
      "331/331 [==============================] - 1s 3ms/step - loss: 0.4199 - accuracy: 0.7983 - val_loss: 0.4739 - val_accuracy: 0.7598\n",
      "Epoch 23/50\n",
      "331/331 [==============================] - 1s 3ms/step - loss: 0.4124 - accuracy: 0.8025 - val_loss: 0.4815 - val_accuracy: 0.7589\n",
      "Epoch 24/50\n",
      "331/331 [==============================] - 1s 3ms/step - loss: 0.4168 - accuracy: 0.7989 - val_loss: 0.4769 - val_accuracy: 0.7598\n",
      "Epoch 25/50\n",
      "331/331 [==============================] - 1s 3ms/step - loss: 0.4108 - accuracy: 0.8075 - val_loss: 0.4779 - val_accuracy: 0.7624\n",
      "Epoch 26/50\n",
      "331/331 [==============================] - 1s 4ms/step - loss: 0.4041 - accuracy: 0.8061 - val_loss: 0.4766 - val_accuracy: 0.7615\n",
      "Epoch 27/50\n",
      "331/331 [==============================] - 1s 3ms/step - loss: 0.4059 - accuracy: 0.8033 - val_loss: 0.4821 - val_accuracy: 0.7624\n",
      "Epoch 28/50\n",
      "331/331 [==============================] - 1s 3ms/step - loss: 0.4054 - accuracy: 0.8103 - val_loss: 0.4840 - val_accuracy: 0.7606\n",
      "Epoch 29/50\n",
      "331/331 [==============================] - 1s 4ms/step - loss: 0.4069 - accuracy: 0.8101 - val_loss: 0.4785 - val_accuracy: 0.7692\n",
      "Epoch 30/50\n",
      "331/331 [==============================] - 1s 4ms/step - loss: 0.3965 - accuracy: 0.8080 - val_loss: 0.4835 - val_accuracy: 0.7606\n",
      "Epoch 31/50\n",
      "331/331 [==============================] - 1s 3ms/step - loss: 0.4017 - accuracy: 0.8098 - val_loss: 0.4716 - val_accuracy: 0.7700\n",
      "Epoch 32/50\n",
      "331/331 [==============================] - 1s 3ms/step - loss: 0.3920 - accuracy: 0.8158 - val_loss: 0.4783 - val_accuracy: 0.7709\n",
      "Epoch 33/50\n",
      "331/331 [==============================] - 1s 3ms/step - loss: 0.3883 - accuracy: 0.8174 - val_loss: 0.4741 - val_accuracy: 0.7658\n",
      "Epoch 34/50\n",
      "331/331 [==============================] - 1s 3ms/step - loss: 0.3800 - accuracy: 0.8212 - val_loss: 0.4849 - val_accuracy: 0.7624\n",
      "Epoch 35/50\n",
      "331/331 [==============================] - 1s 3ms/step - loss: 0.3875 - accuracy: 0.8148 - val_loss: 0.4713 - val_accuracy: 0.7726\n",
      "Epoch 36/50\n",
      "331/331 [==============================] - 1s 4ms/step - loss: 0.3840 - accuracy: 0.8161 - val_loss: 0.4771 - val_accuracy: 0.7641\n",
      "Epoch 37/50\n",
      "331/331 [==============================] - 1s 3ms/step - loss: 0.3876 - accuracy: 0.8166 - val_loss: 0.4699 - val_accuracy: 0.7598\n",
      "Epoch 38/50\n",
      "331/331 [==============================] - 1s 3ms/step - loss: 0.3808 - accuracy: 0.8195 - val_loss: 0.4746 - val_accuracy: 0.7717\n",
      "Epoch 39/50\n",
      "331/331 [==============================] - 1s 4ms/step - loss: 0.3833 - accuracy: 0.8169 - val_loss: 0.4768 - val_accuracy: 0.7717\n",
      "Epoch 40/50\n",
      "331/331 [==============================] - 1s 3ms/step - loss: 0.3810 - accuracy: 0.8189 - val_loss: 0.4769 - val_accuracy: 0.7709\n",
      "Epoch 41/50\n",
      "331/331 [==============================] - 2s 5ms/step - loss: 0.3713 - accuracy: 0.8256 - val_loss: 0.4816 - val_accuracy: 0.7726\n",
      "Epoch 42/50\n",
      "331/331 [==============================] - 1s 4ms/step - loss: 0.3738 - accuracy: 0.8218 - val_loss: 0.4826 - val_accuracy: 0.7717\n",
      "Epoch 43/50\n",
      "331/331 [==============================] - 1s 3ms/step - loss: 0.3697 - accuracy: 0.8223 - val_loss: 0.4822 - val_accuracy: 0.7624\n",
      "Epoch 44/50\n",
      "331/331 [==============================] - 1s 3ms/step - loss: 0.3795 - accuracy: 0.8218 - val_loss: 0.4793 - val_accuracy: 0.7666\n",
      "Epoch 45/50\n",
      "331/331 [==============================] - 1s 4ms/step - loss: 0.3697 - accuracy: 0.8271 - val_loss: 0.4840 - val_accuracy: 0.7641\n",
      "Epoch 46/50\n",
      "331/331 [==============================] - 1s 3ms/step - loss: 0.3740 - accuracy: 0.8263 - val_loss: 0.4794 - val_accuracy: 0.7692\n",
      "Epoch 47/50\n",
      "331/331 [==============================] - 1s 3ms/step - loss: 0.3761 - accuracy: 0.8275 - val_loss: 0.4987 - val_accuracy: 0.7589\n",
      "Epoch 48/50\n",
      "331/331 [==============================] - 1s 4ms/step - loss: 0.3683 - accuracy: 0.8236 - val_loss: 0.4845 - val_accuracy: 0.7606\n",
      "Epoch 49/50\n",
      "331/331 [==============================] - 1s 3ms/step - loss: 0.3670 - accuracy: 0.8255 - val_loss: 0.4770 - val_accuracy: 0.7734\n",
      "Epoch 50/50\n",
      "331/331 [==============================] - 1s 3ms/step - loss: 0.3703 - accuracy: 0.8273 - val_loss: 0.4822 - val_accuracy: 0.7726\n"
     ]
    }
   ],
   "source": [
    "model.compile(optimizer='adam', loss=tf.keras.losses.SparseCategoricalCrossentropy(), metrics=['accuracy'])\n",
    "model_hist = model.fit(X_train, y_train, batch_size=32, epochs=50, validation_split=0.1)"
   ]
  },
  {
   "cell_type": "code",
   "execution_count": 23,
   "id": "d89b8f06",
   "metadata": {
    "execution": {
     "iopub.execute_input": "2022-08-09T05:52:19.064285Z",
     "iopub.status.busy": "2022-08-09T05:52:19.063922Z",
     "iopub.status.idle": "2022-08-09T05:52:19.231743Z",
     "shell.execute_reply": "2022-08-09T05:52:19.230719Z"
    },
    "papermill": {
     "duration": 0.396305,
     "end_time": "2022-08-09T05:52:19.234426",
     "exception": false,
     "start_time": "2022-08-09T05:52:18.838121",
     "status": "completed"
    },
    "tags": []
   },
   "outputs": [],
   "source": [
    "prediction = model.predict(X_test)\n",
    "re = []\n",
    "for predict in prediction:\n",
    "    label = np.argmax(predict)\n",
    "    re.append(label)\n",
    "    \n",
    "re = np.array(re)"
   ]
  },
  {
   "cell_type": "code",
   "execution_count": 24,
   "id": "f808ae1f",
   "metadata": {
    "execution": {
     "iopub.execute_input": "2022-08-09T05:52:19.665687Z",
     "iopub.status.busy": "2022-08-09T05:52:19.665318Z",
     "iopub.status.idle": "2022-08-09T05:52:19.676772Z",
     "shell.execute_reply": "2022-08-09T05:52:19.675688Z"
    },
    "papermill": {
     "duration": 0.223103,
     "end_time": "2022-08-09T05:52:19.679532",
     "exception": false,
     "start_time": "2022-08-09T05:52:19.456429",
     "status": "completed"
    },
    "tags": []
   },
   "outputs": [
    {
     "name": "stdout",
     "output_type": "stream",
     "text": [
      "              precision    recall  f1-score   support\n",
      "\n",
      "           0       0.77      0.84      0.80       751\n",
      "           1       0.75      0.65      0.70       553\n",
      "\n",
      "    accuracy                           0.76      1304\n",
      "   macro avg       0.76      0.74      0.75      1304\n",
      "weighted avg       0.76      0.76      0.76      1304\n",
      "\n"
     ]
    }
   ],
   "source": [
    "from sklearn.metrics import classification_report\n",
    "print(classification_report(y_test, re))"
   ]
  },
  {
   "cell_type": "markdown",
   "id": "c2a31e14",
   "metadata": {
    "papermill": {
     "duration": 0.201787,
     "end_time": "2022-08-09T05:52:20.088157",
     "exception": false,
     "start_time": "2022-08-09T05:52:19.886370",
     "status": "completed"
    },
    "tags": []
   },
   "source": [
    "## Deep Learning BERT"
   ]
  },
  {
   "cell_type": "code",
   "execution_count": 25,
   "id": "a319c9d7",
   "metadata": {
    "execution": {
     "iopub.execute_input": "2022-08-09T05:52:20.491836Z",
     "iopub.status.busy": "2022-08-09T05:52:20.491399Z",
     "iopub.status.idle": "2022-08-09T05:52:23.254601Z",
     "shell.execute_reply": "2022-08-09T05:52:23.253441Z"
    },
    "papermill": {
     "duration": 2.968697,
     "end_time": "2022-08-09T05:52:23.256941",
     "exception": false,
     "start_time": "2022-08-09T05:52:20.288244",
     "status": "completed"
    },
    "tags": []
   },
   "outputs": [
    {
     "name": "stdout",
     "output_type": "stream",
     "text": [
      "\u001b[31mERROR: Could not find a version that satisfies the requirement transformer (from versions: none)\u001b[0m\u001b[31m\r\n",
      "\u001b[0m\u001b[31mERROR: No matching distribution found for transformer\u001b[0m\u001b[31m\r\n",
      "\u001b[0m"
     ]
    }
   ],
   "source": [
    "! pip install -q transformer"
   ]
  },
  {
   "cell_type": "code",
   "execution_count": 26,
   "id": "4ae78ecd",
   "metadata": {
    "execution": {
     "iopub.execute_input": "2022-08-09T05:52:23.701444Z",
     "iopub.status.busy": "2022-08-09T05:52:23.700335Z",
     "iopub.status.idle": "2022-08-09T05:52:24.175513Z",
     "shell.execute_reply": "2022-08-09T05:52:24.174484Z"
    },
    "papermill": {
     "duration": 0.682434,
     "end_time": "2022-08-09T05:52:24.178011",
     "exception": false,
     "start_time": "2022-08-09T05:52:23.495577",
     "status": "completed"
    },
    "tags": []
   },
   "outputs": [],
   "source": [
    "from transformers import BertTokenizer, TFBertModel\n",
    "\n",
    "from tensorflow.keras.models import Model\n",
    "from tensorflow.keras.callbacks import ModelCheckpoint"
   ]
  },
  {
   "cell_type": "code",
   "execution_count": 27,
   "id": "de37c14d",
   "metadata": {
    "execution": {
     "iopub.execute_input": "2022-08-09T05:52:24.592636Z",
     "iopub.status.busy": "2022-08-09T05:52:24.592248Z",
     "iopub.status.idle": "2022-08-09T05:52:24.599514Z",
     "shell.execute_reply": "2022-08-09T05:52:24.598535Z"
    },
    "papermill": {
     "duration": 0.221769,
     "end_time": "2022-08-09T05:52:24.601617",
     "exception": false,
     "start_time": "2022-08-09T05:52:24.379848",
     "status": "completed"
    },
    "tags": []
   },
   "outputs": [],
   "source": [
    "def bert_encode(texts, tokenizer, max_len=100):\n",
    "    all_tokens = []\n",
    "    all_masks = []\n",
    "    all_segments = []\n",
    "    \n",
    "    for text in texts:\n",
    "        text = tokenizer.tokenize(text)\n",
    "            \n",
    "        text = text[:max_len-2]\n",
    "        input_sequence = [\"[CLS]\"] + text + [\"[SEP]\"]\n",
    "        pad_len = max_len - len(input_sequence)\n",
    "        \n",
    "        tokens = tokenizer.convert_tokens_to_ids(input_sequence) + [0] * pad_len\n",
    "        pad_masks = [1] * len(input_sequence) + [0] * pad_len\n",
    "        segment_ids = [0] * max_len\n",
    "        \n",
    "        all_tokens.append(tokens)\n",
    "        all_masks.append(pad_masks)\n",
    "        all_segments.append(segment_ids)\n",
    "    \n",
    "    return np.array(all_tokens), np.array(all_masks), np.array(all_segments)"
   ]
  },
  {
   "cell_type": "code",
   "execution_count": 28,
   "id": "5681da5b",
   "metadata": {
    "execution": {
     "iopub.execute_input": "2022-08-09T05:52:25.007361Z",
     "iopub.status.busy": "2022-08-09T05:52:25.006993Z",
     "iopub.status.idle": "2022-08-09T05:52:58.315173Z",
     "shell.execute_reply": "2022-08-09T05:52:58.313945Z"
    },
    "papermill": {
     "duration": 33.516359,
     "end_time": "2022-08-09T05:52:58.317588",
     "exception": false,
     "start_time": "2022-08-09T05:52:24.801229",
     "status": "completed"
    },
    "tags": []
   },
   "outputs": [
    {
     "data": {
      "application/vnd.jupyter.widget-view+json": {
       "model_id": "ca0dc0882bd741efa02aa4a32008dcd5",
       "version_major": 2,
       "version_minor": 0
      },
      "text/plain": [
       "Downloading:   0%|          | 0.00/224k [00:00<?, ?B/s]"
      ]
     },
     "metadata": {},
     "output_type": "display_data"
    },
    {
     "data": {
      "application/vnd.jupyter.widget-view+json": {
       "model_id": "27e80725cd3547669bf74183d7f9d48c",
       "version_major": 2,
       "version_minor": 0
      },
      "text/plain": [
       "Downloading:   0%|          | 0.00/112 [00:00<?, ?B/s]"
      ]
     },
     "metadata": {},
     "output_type": "display_data"
    },
    {
     "data": {
      "application/vnd.jupyter.widget-view+json": {
       "model_id": "678c2cfbf5804d10897e310b9619ce4d",
       "version_major": 2,
       "version_minor": 0
      },
      "text/plain": [
       "Downloading:   0%|          | 0.00/2.00 [00:00<?, ?B/s]"
      ]
     },
     "metadata": {},
     "output_type": "display_data"
    },
    {
     "data": {
      "application/vnd.jupyter.widget-view+json": {
       "model_id": "5354f515b90a478ab990c3eb7337b578",
       "version_major": 2,
       "version_minor": 0
      },
      "text/plain": [
       "Downloading:   0%|          | 0.00/1.50k [00:00<?, ?B/s]"
      ]
     },
     "metadata": {},
     "output_type": "display_data"
    },
    {
     "data": {
      "application/vnd.jupyter.widget-view+json": {
       "model_id": "359abfbedb614695b6624620b395e0b3",
       "version_major": 2,
       "version_minor": 0
      },
      "text/plain": [
       "Downloading:   0%|          | 0.00/625M [00:00<?, ?B/s]"
      ]
     },
     "metadata": {},
     "output_type": "display_data"
    },
    {
     "name": "stderr",
     "output_type": "stream",
     "text": [
      "Some layers from the model checkpoint at indobenchmark/indobert-base-p2 were not used when initializing TFBertModel: ['mlm___cls', 'nsp___cls']\n",
      "- This IS expected if you are initializing TFBertModel from the checkpoint of a model trained on another task or with another architecture (e.g. initializing a BertForSequenceClassification model from a BertForPreTraining model).\n",
      "- This IS NOT expected if you are initializing TFBertModel from the checkpoint of a model that you expect to be exactly identical (initializing a BertForSequenceClassification model from a BertForSequenceClassification model).\n",
      "All the layers of TFBertModel were initialized from the model checkpoint at indobenchmark/indobert-base-p2.\n",
      "If your task is similar to the task the model of the checkpoint was trained on, you can already use TFBertModel for predictions without further training.\n"
     ]
    }
   ],
   "source": [
    "tokenizer = BertTokenizer.from_pretrained(\"indobenchmark/indobert-base-p2\")\n",
    "bert = TFBertModel.from_pretrained(\"indobenchmark/indobert-base-p2\")"
   ]
  },
  {
   "cell_type": "code",
   "execution_count": 29,
   "id": "f6111cae",
   "metadata": {
    "execution": {
     "iopub.execute_input": "2022-08-09T05:52:58.918811Z",
     "iopub.status.busy": "2022-08-09T05:52:58.918321Z",
     "iopub.status.idle": "2022-08-09T05:52:58.931545Z",
     "shell.execute_reply": "2022-08-09T05:52:58.930631Z"
    },
    "papermill": {
     "duration": 0.378177,
     "end_time": "2022-08-09T05:52:58.934336",
     "exception": false,
     "start_time": "2022-08-09T05:52:58.556159",
     "status": "completed"
    },
    "tags": []
   },
   "outputs": [],
   "source": [
    "def build_model(bert_layer, max_len=100):\n",
    "    input_word_ids = Input(shape=(max_len,), dtype=tf.int32, name=\"input_word_ids\")\n",
    "    input_mask = Input(shape=(max_len,), dtype=tf.int32, name=\"input_mask\")\n",
    "    segment_ids = Input(shape=(max_len,), dtype=tf.int32, name=\"segment_ids\")\n",
    "\n",
    "    sequence_output = bert_layer([input_word_ids, input_mask, segment_ids])\n",
    "    clf_output = sequence_output[\"pooler_output\"]\n",
    "    \n",
    "    out = Dense(1, activation='sigmoid')(clf_output)\n",
    "\n",
    "    model = Model(inputs=[input_word_ids, input_mask, segment_ids], outputs=out)\n",
    "    model.compile(tf.optimizers.Adam(learning_rate=5.95e-6), loss='binary_crossentropy', metrics=['accuracy'])\n",
    "    \n",
    "    return model\n",
    "\n",
    "def train_model(train_input, train_labels):\n",
    "      \n",
    "    model_BERT = build_model(bert, max_len=100)\n",
    "    model_BERT.summary()\n",
    "    \n",
    "    checkpoint = ModelCheckpoint('model_BERT.h5', monitor='val_loss', save_best_only=True)\n",
    "\n",
    "    model_BERT.fit(\n",
    "        train_input, train_labels,\n",
    "        validation_split = 0.15,\n",
    "        epochs = 6,\n",
    "        callbacks=[checkpoint],\n",
    "        batch_size = 16\n",
    "    )\n",
    "    \n",
    "    return model_BERT"
   ]
  },
  {
   "cell_type": "code",
   "execution_count": 30,
   "id": "3fda19a1",
   "metadata": {
    "execution": {
     "iopub.execute_input": "2022-08-09T05:52:59.418075Z",
     "iopub.status.busy": "2022-08-09T05:52:59.417716Z",
     "iopub.status.idle": "2022-08-09T05:53:06.412105Z",
     "shell.execute_reply": "2022-08-09T05:53:06.411126Z"
    },
    "papermill": {
     "duration": 7.199267,
     "end_time": "2022-08-09T05:53:06.414795",
     "exception": false,
     "start_time": "2022-08-09T05:52:59.215528",
     "status": "completed"
    },
    "tags": []
   },
   "outputs": [],
   "source": [
    "X_train = bert_encode(X_train_raw['text'], tokenizer)\n",
    "X_test = bert_encode(X_test_raw['text'], tokenizer)"
   ]
  },
  {
   "cell_type": "code",
   "execution_count": 31,
   "id": "ccef6f66",
   "metadata": {
    "execution": {
     "iopub.execute_input": "2022-08-09T05:53:06.822350Z",
     "iopub.status.busy": "2022-08-09T05:53:06.821981Z",
     "iopub.status.idle": "2022-08-09T06:08:50.869537Z",
     "shell.execute_reply": "2022-08-09T06:08:50.868521Z"
    },
    "papermill": {
     "duration": 944.253668,
     "end_time": "2022-08-09T06:08:50.872386",
     "exception": false,
     "start_time": "2022-08-09T05:53:06.618718",
     "status": "completed"
    },
    "tags": []
   },
   "outputs": [
    {
     "name": "stdout",
     "output_type": "stream",
     "text": [
      "Model: \"model\"\n",
      "__________________________________________________________________________________________________\n",
      "Layer (type)                    Output Shape         Param #     Connected to                     \n",
      "==================================================================================================\n",
      "input_word_ids (InputLayer)     [(None, 100)]        0                                            \n",
      "__________________________________________________________________________________________________\n",
      "input_mask (InputLayer)         [(None, 100)]        0                                            \n",
      "__________________________________________________________________________________________________\n",
      "segment_ids (InputLayer)        [(None, 100)]        0                                            \n",
      "__________________________________________________________________________________________________\n",
      "tf_bert_model (TFBertModel)     TFBaseModelOutputWit 124441344   input_word_ids[0][0]             \n",
      "                                                                 input_mask[0][0]                 \n",
      "                                                                 segment_ids[0][0]                \n",
      "__________________________________________________________________________________________________\n",
      "dense_4 (Dense)                 (None, 1)            769         tf_bert_model[0][1]              \n",
      "==================================================================================================\n",
      "Total params: 124,442,113\n",
      "Trainable params: 124,442,113\n",
      "Non-trainable params: 0\n",
      "__________________________________________________________________________________________________\n",
      "Epoch 1/6\n",
      "624/624 [==============================] - 163s 237ms/step - loss: 0.4391 - accuracy: 0.7916 - val_loss: 0.3835 - val_accuracy: 0.8342\n",
      "Epoch 2/6\n",
      "624/624 [==============================] - 145s 232ms/step - loss: 0.2932 - accuracy: 0.8756 - val_loss: 0.3545 - val_accuracy: 0.8404\n",
      "Epoch 3/6\n",
      "624/624 [==============================] - 145s 232ms/step - loss: 0.1980 - accuracy: 0.9210 - val_loss: 0.3906 - val_accuracy: 0.8370\n",
      "Epoch 4/6\n",
      "624/624 [==============================] - 144s 231ms/step - loss: 0.1168 - accuracy: 0.9575 - val_loss: 0.4309 - val_accuracy: 0.8489\n",
      "Epoch 5/6\n",
      "624/624 [==============================] - 144s 231ms/step - loss: 0.0683 - accuracy: 0.9750 - val_loss: 0.5077 - val_accuracy: 0.8427\n",
      "Epoch 6/6\n",
      "624/624 [==============================] - 144s 231ms/step - loss: 0.0443 - accuracy: 0.9849 - val_loss: 0.6500 - val_accuracy: 0.8353\n"
     ]
    }
   ],
   "source": [
    "model_BERT = train_model(X_train, y_train_raw)"
   ]
  },
  {
   "cell_type": "code",
   "execution_count": 32,
   "id": "ea7430d9",
   "metadata": {
    "execution": {
     "iopub.execute_input": "2022-08-09T06:08:51.716351Z",
     "iopub.status.busy": "2022-08-09T06:08:51.715715Z",
     "iopub.status.idle": "2022-08-09T06:09:04.237243Z",
     "shell.execute_reply": "2022-08-09T06:09:04.236253Z"
    },
    "papermill": {
     "duration": 12.969141,
     "end_time": "2022-08-09T06:09:04.239940",
     "exception": false,
     "start_time": "2022-08-09T06:08:51.270799",
     "status": "completed"
    },
    "tags": []
   },
   "outputs": [],
   "source": [
    "prediction = model_BERT.predict(X_test)\n",
    "re = []\n",
    "for predict in prediction:\n",
    "    label = 1 if predict[0] >= 0.5 else 0\n",
    "    re.append(label)\n",
    "    \n",
    "re = np.array(re)"
   ]
  },
  {
   "cell_type": "code",
   "execution_count": 33,
   "id": "7c2fa60d",
   "metadata": {
    "execution": {
     "iopub.execute_input": "2022-08-09T06:09:05.043255Z",
     "iopub.status.busy": "2022-08-09T06:09:05.042890Z",
     "iopub.status.idle": "2022-08-09T06:09:05.056002Z",
     "shell.execute_reply": "2022-08-09T06:09:05.053766Z"
    },
    "papermill": {
     "duration": 0.419291,
     "end_time": "2022-08-09T06:09:05.058989",
     "exception": false,
     "start_time": "2022-08-09T06:09:04.639698",
     "status": "completed"
    },
    "tags": []
   },
   "outputs": [
    {
     "name": "stdout",
     "output_type": "stream",
     "text": [
      "              precision    recall  f1-score   support\n",
      "\n",
      "           0       0.89      0.80      0.84       751\n",
      "           1       0.76      0.87      0.81       553\n",
      "\n",
      "    accuracy                           0.83      1304\n",
      "   macro avg       0.83      0.83      0.83      1304\n",
      "weighted avg       0.84      0.83      0.83      1304\n",
      "\n"
     ]
    }
   ],
   "source": [
    "from sklearn.metrics import classification_report\n",
    "print(classification_report(y_test_raw, re))"
   ]
  },
  {
   "cell_type": "code",
   "execution_count": 34,
   "id": "19cf533c",
   "metadata": {
    "execution": {
     "iopub.execute_input": "2022-08-09T06:09:05.910751Z",
     "iopub.status.busy": "2022-08-09T06:09:05.910379Z",
     "iopub.status.idle": "2022-08-09T06:09:06.892515Z",
     "shell.execute_reply": "2022-08-09T06:09:06.891526Z"
    },
    "papermill": {
     "duration": 1.390099,
     "end_time": "2022-08-09T06:09:06.895461",
     "exception": false,
     "start_time": "2022-08-09T06:09:05.505362",
     "status": "completed"
    },
    "tags": []
   },
   "outputs": [],
   "source": [
    "model_BERT.save_weights('model_weights.h5')"
   ]
  },
  {
   "cell_type": "code",
   "execution_count": null,
   "id": "0136aad9",
   "metadata": {
    "papermill": {
     "duration": 0.398685,
     "end_time": "2022-08-09T06:09:07.789277",
     "exception": false,
     "start_time": "2022-08-09T06:09:07.390592",
     "status": "completed"
    },
    "tags": []
   },
   "outputs": [],
   "source": []
  }
 ],
 "metadata": {
  "kernelspec": {
   "display_name": "Python 3",
   "language": "python",
   "name": "python3"
  },
  "language_info": {
   "codemirror_mode": {
    "name": "ipython",
    "version": 3
   },
   "file_extension": ".py",
   "mimetype": "text/x-python",
   "name": "python",
   "nbconvert_exporter": "python",
   "pygments_lexer": "ipython3",
   "version": "3.7.12"
  },
  "papermill": {
   "default_parameters": {},
   "duration": 1290.160487,
   "end_time": "2022-08-09T06:09:11.413189",
   "environment_variables": {},
   "exception": null,
   "input_path": "__notebook__.ipynb",
   "output_path": "__notebook__.ipynb",
   "parameters": {},
   "start_time": "2022-08-09T05:47:41.252702",
   "version": "2.3.4"
  },
  "widgets": {
   "application/vnd.jupyter.widget-state+json": {
    "state": {
     "00c54c4bd0534d83b5929f34a5555bbe": {
      "model_module": "@jupyter-widgets/base",
      "model_module_version": "1.2.0",
      "model_name": "LayoutModel",
      "state": {
       "_model_module": "@jupyter-widgets/base",
       "_model_module_version": "1.2.0",
       "_model_name": "LayoutModel",
       "_view_count": null,
       "_view_module": "@jupyter-widgets/base",
       "_view_module_version": "1.2.0",
       "_view_name": "LayoutView",
       "align_content": null,
       "align_items": null,
       "align_self": null,
       "border": null,
       "bottom": null,
       "display": null,
       "flex": null,
       "flex_flow": null,
       "grid_area": null,
       "grid_auto_columns": null,
       "grid_auto_flow": null,
       "grid_auto_rows": null,
       "grid_column": null,
       "grid_gap": null,
       "grid_row": null,
       "grid_template_areas": null,
       "grid_template_columns": null,
       "grid_template_rows": null,
       "height": null,
       "justify_content": null,
       "justify_items": null,
       "left": null,
       "margin": null,
       "max_height": null,
       "max_width": null,
       "min_height": null,
       "min_width": null,
       "object_fit": null,
       "object_position": null,
       "order": null,
       "overflow": null,
       "overflow_x": null,
       "overflow_y": null,
       "padding": null,
       "right": null,
       "top": null,
       "visibility": null,
       "width": null
      }
     },
     "041d0e35a41b4e509a1bade712376c9b": {
      "model_module": "@jupyter-widgets/controls",
      "model_module_version": "1.5.0",
      "model_name": "HTMLModel",
      "state": {
       "_dom_classes": [],
       "_model_module": "@jupyter-widgets/controls",
       "_model_module_version": "1.5.0",
       "_model_name": "HTMLModel",
       "_view_count": null,
       "_view_module": "@jupyter-widgets/controls",
       "_view_module_version": "1.5.0",
       "_view_name": "HTMLView",
       "description": "",
       "description_tooltip": null,
       "layout": "IPY_MODEL_8f7965b70951449cbb86a3a5d9bc91e5",
       "placeholder": "​",
       "style": "IPY_MODEL_a8f279a5004a4945be6501034fe7110b",
       "value": " 625M/625M [00:27&lt;00:00, 25.7MB/s]"
      }
     },
     "15df4c1a7b3e40a1a7fb013ac477ebf2": {
      "model_module": "@jupyter-widgets/base",
      "model_module_version": "1.2.0",
      "model_name": "LayoutModel",
      "state": {
       "_model_module": "@jupyter-widgets/base",
       "_model_module_version": "1.2.0",
       "_model_name": "LayoutModel",
       "_view_count": null,
       "_view_module": "@jupyter-widgets/base",
       "_view_module_version": "1.2.0",
       "_view_name": "LayoutView",
       "align_content": null,
       "align_items": null,
       "align_self": null,
       "border": null,
       "bottom": null,
       "display": null,
       "flex": null,
       "flex_flow": null,
       "grid_area": null,
       "grid_auto_columns": null,
       "grid_auto_flow": null,
       "grid_auto_rows": null,
       "grid_column": null,
       "grid_gap": null,
       "grid_row": null,
       "grid_template_areas": null,
       "grid_template_columns": null,
       "grid_template_rows": null,
       "height": null,
       "justify_content": null,
       "justify_items": null,
       "left": null,
       "margin": null,
       "max_height": null,
       "max_width": null,
       "min_height": null,
       "min_width": null,
       "object_fit": null,
       "object_position": null,
       "order": null,
       "overflow": null,
       "overflow_x": null,
       "overflow_y": null,
       "padding": null,
       "right": null,
       "top": null,
       "visibility": null,
       "width": null
      }
     },
     "1899a7107df740529a91f20d8e07b07a": {
      "model_module": "@jupyter-widgets/controls",
      "model_module_version": "1.5.0",
      "model_name": "HTMLModel",
      "state": {
       "_dom_classes": [],
       "_model_module": "@jupyter-widgets/controls",
       "_model_module_version": "1.5.0",
       "_model_name": "HTMLModel",
       "_view_count": null,
       "_view_module": "@jupyter-widgets/controls",
       "_view_module_version": "1.5.0",
       "_view_name": "HTMLView",
       "description": "",
       "description_tooltip": null,
       "layout": "IPY_MODEL_7bf2594e70b8481ca55e6a3abd5577ad",
       "placeholder": "​",
       "style": "IPY_MODEL_1f24163f2a6f46879888a5e2b42cdf04",
       "value": " 2.00/2.00 [00:00&lt;00:00, 71.1B/s]"
      }
     },
     "1918762950304050ba29828092ca174e": {
      "model_module": "@jupyter-widgets/controls",
      "model_module_version": "1.5.0",
      "model_name": "FloatProgressModel",
      "state": {
       "_dom_classes": [],
       "_model_module": "@jupyter-widgets/controls",
       "_model_module_version": "1.5.0",
       "_model_name": "FloatProgressModel",
       "_view_count": null,
       "_view_module": "@jupyter-widgets/controls",
       "_view_module_version": "1.5.0",
       "_view_name": "ProgressView",
       "bar_style": "success",
       "description": "",
       "description_tooltip": null,
       "layout": "IPY_MODEL_ef51998491c04e2494ca003300422ec5",
       "max": 229167.0,
       "min": 0.0,
       "orientation": "horizontal",
       "style": "IPY_MODEL_d3901b42f0764473bf47e9c3611d4acc",
       "value": 229167.0
      }
     },
     "1eda1652df734056819c56b66ab77148": {
      "model_module": "@jupyter-widgets/base",
      "model_module_version": "1.2.0",
      "model_name": "LayoutModel",
      "state": {
       "_model_module": "@jupyter-widgets/base",
       "_model_module_version": "1.2.0",
       "_model_name": "LayoutModel",
       "_view_count": null,
       "_view_module": "@jupyter-widgets/base",
       "_view_module_version": "1.2.0",
       "_view_name": "LayoutView",
       "align_content": null,
       "align_items": null,
       "align_self": null,
       "border": null,
       "bottom": null,
       "display": null,
       "flex": null,
       "flex_flow": null,
       "grid_area": null,
       "grid_auto_columns": null,
       "grid_auto_flow": null,
       "grid_auto_rows": null,
       "grid_column": null,
       "grid_gap": null,
       "grid_row": null,
       "grid_template_areas": null,
       "grid_template_columns": null,
       "grid_template_rows": null,
       "height": null,
       "justify_content": null,
       "justify_items": null,
       "left": null,
       "margin": null,
       "max_height": null,
       "max_width": null,
       "min_height": null,
       "min_width": null,
       "object_fit": null,
       "object_position": null,
       "order": null,
       "overflow": null,
       "overflow_x": null,
       "overflow_y": null,
       "padding": null,
       "right": null,
       "top": null,
       "visibility": null,
       "width": null
      }
     },
     "1f24163f2a6f46879888a5e2b42cdf04": {
      "model_module": "@jupyter-widgets/controls",
      "model_module_version": "1.5.0",
      "model_name": "DescriptionStyleModel",
      "state": {
       "_model_module": "@jupyter-widgets/controls",
       "_model_module_version": "1.5.0",
       "_model_name": "DescriptionStyleModel",
       "_view_count": null,
       "_view_module": "@jupyter-widgets/base",
       "_view_module_version": "1.2.0",
       "_view_name": "StyleView",
       "description_width": ""
      }
     },
     "27e80725cd3547669bf74183d7f9d48c": {
      "model_module": "@jupyter-widgets/controls",
      "model_module_version": "1.5.0",
      "model_name": "HBoxModel",
      "state": {
       "_dom_classes": [],
       "_model_module": "@jupyter-widgets/controls",
       "_model_module_version": "1.5.0",
       "_model_name": "HBoxModel",
       "_view_count": null,
       "_view_module": "@jupyter-widgets/controls",
       "_view_module_version": "1.5.0",
       "_view_name": "HBoxView",
       "box_style": "",
       "children": [
        "IPY_MODEL_728f6266ebdd48b4a85aa31417379d5b",
        "IPY_MODEL_676cffeb310745ac9d8d7e4935aeadfa",
        "IPY_MODEL_5cc5be0791e34e55bfd329c0a9a7d49d"
       ],
       "layout": "IPY_MODEL_6b7d385318db4e17852bc7280ca7638c"
      }
     },
     "29a5f85f44b543e78de0984147e2ce71": {
      "model_module": "@jupyter-widgets/base",
      "model_module_version": "1.2.0",
      "model_name": "LayoutModel",
      "state": {
       "_model_module": "@jupyter-widgets/base",
       "_model_module_version": "1.2.0",
       "_model_name": "LayoutModel",
       "_view_count": null,
       "_view_module": "@jupyter-widgets/base",
       "_view_module_version": "1.2.0",
       "_view_name": "LayoutView",
       "align_content": null,
       "align_items": null,
       "align_self": null,
       "border": null,
       "bottom": null,
       "display": null,
       "flex": null,
       "flex_flow": null,
       "grid_area": null,
       "grid_auto_columns": null,
       "grid_auto_flow": null,
       "grid_auto_rows": null,
       "grid_column": null,
       "grid_gap": null,
       "grid_row": null,
       "grid_template_areas": null,
       "grid_template_columns": null,
       "grid_template_rows": null,
       "height": null,
       "justify_content": null,
       "justify_items": null,
       "left": null,
       "margin": null,
       "max_height": null,
       "max_width": null,
       "min_height": null,
       "min_width": null,
       "object_fit": null,
       "object_position": null,
       "order": null,
       "overflow": null,
       "overflow_x": null,
       "overflow_y": null,
       "padding": null,
       "right": null,
       "top": null,
       "visibility": null,
       "width": null
      }
     },
     "3102e13db8e84638ba3841c2ea248196": {
      "model_module": "@jupyter-widgets/controls",
      "model_module_version": "1.5.0",
      "model_name": "HTMLModel",
      "state": {
       "_dom_classes": [],
       "_model_module": "@jupyter-widgets/controls",
       "_model_module_version": "1.5.0",
       "_model_name": "HTMLModel",
       "_view_count": null,
       "_view_module": "@jupyter-widgets/controls",
       "_view_module_version": "1.5.0",
       "_view_name": "HTMLView",
       "description": "",
       "description_tooltip": null,
       "layout": "IPY_MODEL_15df4c1a7b3e40a1a7fb013ac477ebf2",
       "placeholder": "​",
       "style": "IPY_MODEL_fe9f334d7cad4050a4ecddaf4b8ac98e",
       "value": " 1.50k/1.50k [00:00&lt;00:00, 57.7kB/s]"
      }
     },
     "325969e440894cb4819e63ff9bd8c32c": {
      "model_module": "@jupyter-widgets/controls",
      "model_module_version": "1.5.0",
      "model_name": "ProgressStyleModel",
      "state": {
       "_model_module": "@jupyter-widgets/controls",
       "_model_module_version": "1.5.0",
       "_model_name": "ProgressStyleModel",
       "_view_count": null,
       "_view_module": "@jupyter-widgets/base",
       "_view_module_version": "1.2.0",
       "_view_name": "StyleView",
       "bar_color": null,
       "description_width": ""
      }
     },
     "3361b589937e40c29c30e3a544066ee1": {
      "model_module": "@jupyter-widgets/controls",
      "model_module_version": "1.5.0",
      "model_name": "DescriptionStyleModel",
      "state": {
       "_model_module": "@jupyter-widgets/controls",
       "_model_module_version": "1.5.0",
       "_model_name": "DescriptionStyleModel",
       "_view_count": null,
       "_view_module": "@jupyter-widgets/base",
       "_view_module_version": "1.2.0",
       "_view_name": "StyleView",
       "description_width": ""
      }
     },
     "359abfbedb614695b6624620b395e0b3": {
      "model_module": "@jupyter-widgets/controls",
      "model_module_version": "1.5.0",
      "model_name": "HBoxModel",
      "state": {
       "_dom_classes": [],
       "_model_module": "@jupyter-widgets/controls",
       "_model_module_version": "1.5.0",
       "_model_name": "HBoxModel",
       "_view_count": null,
       "_view_module": "@jupyter-widgets/controls",
       "_view_module_version": "1.5.0",
       "_view_name": "HBoxView",
       "box_style": "",
       "children": [
        "IPY_MODEL_9404d49122fd4fd287a61da07caacb97",
        "IPY_MODEL_98a1f888e0a74b0d8b6930a84bb38e33",
        "IPY_MODEL_041d0e35a41b4e509a1bade712376c9b"
       ],
       "layout": "IPY_MODEL_79a66f4cff76484c8614fcbf007ef2e6"
      }
     },
     "3fe59bdfab1d444b9dcd43458ebca0b1": {
      "model_module": "@jupyter-widgets/base",
      "model_module_version": "1.2.0",
      "model_name": "LayoutModel",
      "state": {
       "_model_module": "@jupyter-widgets/base",
       "_model_module_version": "1.2.0",
       "_model_name": "LayoutModel",
       "_view_count": null,
       "_view_module": "@jupyter-widgets/base",
       "_view_module_version": "1.2.0",
       "_view_name": "LayoutView",
       "align_content": null,
       "align_items": null,
       "align_self": null,
       "border": null,
       "bottom": null,
       "display": null,
       "flex": null,
       "flex_flow": null,
       "grid_area": null,
       "grid_auto_columns": null,
       "grid_auto_flow": null,
       "grid_auto_rows": null,
       "grid_column": null,
       "grid_gap": null,
       "grid_row": null,
       "grid_template_areas": null,
       "grid_template_columns": null,
       "grid_template_rows": null,
       "height": null,
       "justify_content": null,
       "justify_items": null,
       "left": null,
       "margin": null,
       "max_height": null,
       "max_width": null,
       "min_height": null,
       "min_width": null,
       "object_fit": null,
       "object_position": null,
       "order": null,
       "overflow": null,
       "overflow_x": null,
       "overflow_y": null,
       "padding": null,
       "right": null,
       "top": null,
       "visibility": null,
       "width": null
      }
     },
     "4231d4024ed84470827fa4b3ebb87813": {
      "model_module": "@jupyter-widgets/base",
      "model_module_version": "1.2.0",
      "model_name": "LayoutModel",
      "state": {
       "_model_module": "@jupyter-widgets/base",
       "_model_module_version": "1.2.0",
       "_model_name": "LayoutModel",
       "_view_count": null,
       "_view_module": "@jupyter-widgets/base",
       "_view_module_version": "1.2.0",
       "_view_name": "LayoutView",
       "align_content": null,
       "align_items": null,
       "align_self": null,
       "border": null,
       "bottom": null,
       "display": null,
       "flex": null,
       "flex_flow": null,
       "grid_area": null,
       "grid_auto_columns": null,
       "grid_auto_flow": null,
       "grid_auto_rows": null,
       "grid_column": null,
       "grid_gap": null,
       "grid_row": null,
       "grid_template_areas": null,
       "grid_template_columns": null,
       "grid_template_rows": null,
       "height": null,
       "justify_content": null,
       "justify_items": null,
       "left": null,
       "margin": null,
       "max_height": null,
       "max_width": null,
       "min_height": null,
       "min_width": null,
       "object_fit": null,
       "object_position": null,
       "order": null,
       "overflow": null,
       "overflow_x": null,
       "overflow_y": null,
       "padding": null,
       "right": null,
       "top": null,
       "visibility": null,
       "width": null
      }
     },
     "5354f515b90a478ab990c3eb7337b578": {
      "model_module": "@jupyter-widgets/controls",
      "model_module_version": "1.5.0",
      "model_name": "HBoxModel",
      "state": {
       "_dom_classes": [],
       "_model_module": "@jupyter-widgets/controls",
       "_model_module_version": "1.5.0",
       "_model_name": "HBoxModel",
       "_view_count": null,
       "_view_module": "@jupyter-widgets/controls",
       "_view_module_version": "1.5.0",
       "_view_name": "HBoxView",
       "box_style": "",
       "children": [
        "IPY_MODEL_d32af9e4bd084d3baa82f4ba865e2b84",
        "IPY_MODEL_b9f413ce345c41fba305c60a4614ae8f",
        "IPY_MODEL_3102e13db8e84638ba3841c2ea248196"
       ],
       "layout": "IPY_MODEL_00c54c4bd0534d83b5929f34a5555bbe"
      }
     },
     "5cc5be0791e34e55bfd329c0a9a7d49d": {
      "model_module": "@jupyter-widgets/controls",
      "model_module_version": "1.5.0",
      "model_name": "HTMLModel",
      "state": {
       "_dom_classes": [],
       "_model_module": "@jupyter-widgets/controls",
       "_model_module_version": "1.5.0",
       "_model_name": "HTMLModel",
       "_view_count": null,
       "_view_module": "@jupyter-widgets/controls",
       "_view_module_version": "1.5.0",
       "_view_name": "HTMLView",
       "description": "",
       "description_tooltip": null,
       "layout": "IPY_MODEL_4231d4024ed84470827fa4b3ebb87813",
       "placeholder": "​",
       "style": "IPY_MODEL_c5b72f424f3d4094b6a17206443077c9",
       "value": " 112/112 [00:00&lt;00:00, 3.74kB/s]"
      }
     },
     "676cffeb310745ac9d8d7e4935aeadfa": {
      "model_module": "@jupyter-widgets/controls",
      "model_module_version": "1.5.0",
      "model_name": "FloatProgressModel",
      "state": {
       "_dom_classes": [],
       "_model_module": "@jupyter-widgets/controls",
       "_model_module_version": "1.5.0",
       "_model_name": "FloatProgressModel",
       "_view_count": null,
       "_view_module": "@jupyter-widgets/controls",
       "_view_module_version": "1.5.0",
       "_view_name": "ProgressView",
       "bar_style": "success",
       "description": "",
       "description_tooltip": null,
       "layout": "IPY_MODEL_abee7480f8a547f8861575d7379b98fa",
       "max": 112.0,
       "min": 0.0,
       "orientation": "horizontal",
       "style": "IPY_MODEL_a3d45aac684d4464ad438caf114cbef0",
       "value": 112.0
      }
     },
     "678c2cfbf5804d10897e310b9619ce4d": {
      "model_module": "@jupyter-widgets/controls",
      "model_module_version": "1.5.0",
      "model_name": "HBoxModel",
      "state": {
       "_dom_classes": [],
       "_model_module": "@jupyter-widgets/controls",
       "_model_module_version": "1.5.0",
       "_model_name": "HBoxModel",
       "_view_count": null,
       "_view_module": "@jupyter-widgets/controls",
       "_view_module_version": "1.5.0",
       "_view_name": "HBoxView",
       "box_style": "",
       "children": [
        "IPY_MODEL_c5db878dc0c144d586440eae9d92d92a",
        "IPY_MODEL_b84a7170e9d341938cd32c01f7f836aa",
        "IPY_MODEL_1899a7107df740529a91f20d8e07b07a"
       ],
       "layout": "IPY_MODEL_6926de732fe143839a2f04bd548d9b23"
      }
     },
     "691bda43bd3b4930a02f93abef4aeec2": {
      "model_module": "@jupyter-widgets/base",
      "model_module_version": "1.2.0",
      "model_name": "LayoutModel",
      "state": {
       "_model_module": "@jupyter-widgets/base",
       "_model_module_version": "1.2.0",
       "_model_name": "LayoutModel",
       "_view_count": null,
       "_view_module": "@jupyter-widgets/base",
       "_view_module_version": "1.2.0",
       "_view_name": "LayoutView",
       "align_content": null,
       "align_items": null,
       "align_self": null,
       "border": null,
       "bottom": null,
       "display": null,
       "flex": null,
       "flex_flow": null,
       "grid_area": null,
       "grid_auto_columns": null,
       "grid_auto_flow": null,
       "grid_auto_rows": null,
       "grid_column": null,
       "grid_gap": null,
       "grid_row": null,
       "grid_template_areas": null,
       "grid_template_columns": null,
       "grid_template_rows": null,
       "height": null,
       "justify_content": null,
       "justify_items": null,
       "left": null,
       "margin": null,
       "max_height": null,
       "max_width": null,
       "min_height": null,
       "min_width": null,
       "object_fit": null,
       "object_position": null,
       "order": null,
       "overflow": null,
       "overflow_x": null,
       "overflow_y": null,
       "padding": null,
       "right": null,
       "top": null,
       "visibility": null,
       "width": null
      }
     },
     "6926de732fe143839a2f04bd548d9b23": {
      "model_module": "@jupyter-widgets/base",
      "model_module_version": "1.2.0",
      "model_name": "LayoutModel",
      "state": {
       "_model_module": "@jupyter-widgets/base",
       "_model_module_version": "1.2.0",
       "_model_name": "LayoutModel",
       "_view_count": null,
       "_view_module": "@jupyter-widgets/base",
       "_view_module_version": "1.2.0",
       "_view_name": "LayoutView",
       "align_content": null,
       "align_items": null,
       "align_self": null,
       "border": null,
       "bottom": null,
       "display": null,
       "flex": null,
       "flex_flow": null,
       "grid_area": null,
       "grid_auto_columns": null,
       "grid_auto_flow": null,
       "grid_auto_rows": null,
       "grid_column": null,
       "grid_gap": null,
       "grid_row": null,
       "grid_template_areas": null,
       "grid_template_columns": null,
       "grid_template_rows": null,
       "height": null,
       "justify_content": null,
       "justify_items": null,
       "left": null,
       "margin": null,
       "max_height": null,
       "max_width": null,
       "min_height": null,
       "min_width": null,
       "object_fit": null,
       "object_position": null,
       "order": null,
       "overflow": null,
       "overflow_x": null,
       "overflow_y": null,
       "padding": null,
       "right": null,
       "top": null,
       "visibility": null,
       "width": null
      }
     },
     "69604e9b85e049d79302ade7e1e0785b": {
      "model_module": "@jupyter-widgets/base",
      "model_module_version": "1.2.0",
      "model_name": "LayoutModel",
      "state": {
       "_model_module": "@jupyter-widgets/base",
       "_model_module_version": "1.2.0",
       "_model_name": "LayoutModel",
       "_view_count": null,
       "_view_module": "@jupyter-widgets/base",
       "_view_module_version": "1.2.0",
       "_view_name": "LayoutView",
       "align_content": null,
       "align_items": null,
       "align_self": null,
       "border": null,
       "bottom": null,
       "display": null,
       "flex": null,
       "flex_flow": null,
       "grid_area": null,
       "grid_auto_columns": null,
       "grid_auto_flow": null,
       "grid_auto_rows": null,
       "grid_column": null,
       "grid_gap": null,
       "grid_row": null,
       "grid_template_areas": null,
       "grid_template_columns": null,
       "grid_template_rows": null,
       "height": null,
       "justify_content": null,
       "justify_items": null,
       "left": null,
       "margin": null,
       "max_height": null,
       "max_width": null,
       "min_height": null,
       "min_width": null,
       "object_fit": null,
       "object_position": null,
       "order": null,
       "overflow": null,
       "overflow_x": null,
       "overflow_y": null,
       "padding": null,
       "right": null,
       "top": null,
       "visibility": null,
       "width": null
      }
     },
     "6b7d385318db4e17852bc7280ca7638c": {
      "model_module": "@jupyter-widgets/base",
      "model_module_version": "1.2.0",
      "model_name": "LayoutModel",
      "state": {
       "_model_module": "@jupyter-widgets/base",
       "_model_module_version": "1.2.0",
       "_model_name": "LayoutModel",
       "_view_count": null,
       "_view_module": "@jupyter-widgets/base",
       "_view_module_version": "1.2.0",
       "_view_name": "LayoutView",
       "align_content": null,
       "align_items": null,
       "align_self": null,
       "border": null,
       "bottom": null,
       "display": null,
       "flex": null,
       "flex_flow": null,
       "grid_area": null,
       "grid_auto_columns": null,
       "grid_auto_flow": null,
       "grid_auto_rows": null,
       "grid_column": null,
       "grid_gap": null,
       "grid_row": null,
       "grid_template_areas": null,
       "grid_template_columns": null,
       "grid_template_rows": null,
       "height": null,
       "justify_content": null,
       "justify_items": null,
       "left": null,
       "margin": null,
       "max_height": null,
       "max_width": null,
       "min_height": null,
       "min_width": null,
       "object_fit": null,
       "object_position": null,
       "order": null,
       "overflow": null,
       "overflow_x": null,
       "overflow_y": null,
       "padding": null,
       "right": null,
       "top": null,
       "visibility": null,
       "width": null
      }
     },
     "728f6266ebdd48b4a85aa31417379d5b": {
      "model_module": "@jupyter-widgets/controls",
      "model_module_version": "1.5.0",
      "model_name": "HTMLModel",
      "state": {
       "_dom_classes": [],
       "_model_module": "@jupyter-widgets/controls",
       "_model_module_version": "1.5.0",
       "_model_name": "HTMLModel",
       "_view_count": null,
       "_view_module": "@jupyter-widgets/controls",
       "_view_module_version": "1.5.0",
       "_view_name": "HTMLView",
       "description": "",
       "description_tooltip": null,
       "layout": "IPY_MODEL_29a5f85f44b543e78de0984147e2ce71",
       "placeholder": "​",
       "style": "IPY_MODEL_d0d451a4187940c99b7024bcbb0799e8",
       "value": "Downloading: 100%"
      }
     },
     "79a66f4cff76484c8614fcbf007ef2e6": {
      "model_module": "@jupyter-widgets/base",
      "model_module_version": "1.2.0",
      "model_name": "LayoutModel",
      "state": {
       "_model_module": "@jupyter-widgets/base",
       "_model_module_version": "1.2.0",
       "_model_name": "LayoutModel",
       "_view_count": null,
       "_view_module": "@jupyter-widgets/base",
       "_view_module_version": "1.2.0",
       "_view_name": "LayoutView",
       "align_content": null,
       "align_items": null,
       "align_self": null,
       "border": null,
       "bottom": null,
       "display": null,
       "flex": null,
       "flex_flow": null,
       "grid_area": null,
       "grid_auto_columns": null,
       "grid_auto_flow": null,
       "grid_auto_rows": null,
       "grid_column": null,
       "grid_gap": null,
       "grid_row": null,
       "grid_template_areas": null,
       "grid_template_columns": null,
       "grid_template_rows": null,
       "height": null,
       "justify_content": null,
       "justify_items": null,
       "left": null,
       "margin": null,
       "max_height": null,
       "max_width": null,
       "min_height": null,
       "min_width": null,
       "object_fit": null,
       "object_position": null,
       "order": null,
       "overflow": null,
       "overflow_x": null,
       "overflow_y": null,
       "padding": null,
       "right": null,
       "top": null,
       "visibility": null,
       "width": null
      }
     },
     "7bf2594e70b8481ca55e6a3abd5577ad": {
      "model_module": "@jupyter-widgets/base",
      "model_module_version": "1.2.0",
      "model_name": "LayoutModel",
      "state": {
       "_model_module": "@jupyter-widgets/base",
       "_model_module_version": "1.2.0",
       "_model_name": "LayoutModel",
       "_view_count": null,
       "_view_module": "@jupyter-widgets/base",
       "_view_module_version": "1.2.0",
       "_view_name": "LayoutView",
       "align_content": null,
       "align_items": null,
       "align_self": null,
       "border": null,
       "bottom": null,
       "display": null,
       "flex": null,
       "flex_flow": null,
       "grid_area": null,
       "grid_auto_columns": null,
       "grid_auto_flow": null,
       "grid_auto_rows": null,
       "grid_column": null,
       "grid_gap": null,
       "grid_row": null,
       "grid_template_areas": null,
       "grid_template_columns": null,
       "grid_template_rows": null,
       "height": null,
       "justify_content": null,
       "justify_items": null,
       "left": null,
       "margin": null,
       "max_height": null,
       "max_width": null,
       "min_height": null,
       "min_width": null,
       "object_fit": null,
       "object_position": null,
       "order": null,
       "overflow": null,
       "overflow_x": null,
       "overflow_y": null,
       "padding": null,
       "right": null,
       "top": null,
       "visibility": null,
       "width": null
      }
     },
     "8f7965b70951449cbb86a3a5d9bc91e5": {
      "model_module": "@jupyter-widgets/base",
      "model_module_version": "1.2.0",
      "model_name": "LayoutModel",
      "state": {
       "_model_module": "@jupyter-widgets/base",
       "_model_module_version": "1.2.0",
       "_model_name": "LayoutModel",
       "_view_count": null,
       "_view_module": "@jupyter-widgets/base",
       "_view_module_version": "1.2.0",
       "_view_name": "LayoutView",
       "align_content": null,
       "align_items": null,
       "align_self": null,
       "border": null,
       "bottom": null,
       "display": null,
       "flex": null,
       "flex_flow": null,
       "grid_area": null,
       "grid_auto_columns": null,
       "grid_auto_flow": null,
       "grid_auto_rows": null,
       "grid_column": null,
       "grid_gap": null,
       "grid_row": null,
       "grid_template_areas": null,
       "grid_template_columns": null,
       "grid_template_rows": null,
       "height": null,
       "justify_content": null,
       "justify_items": null,
       "left": null,
       "margin": null,
       "max_height": null,
       "max_width": null,
       "min_height": null,
       "min_width": null,
       "object_fit": null,
       "object_position": null,
       "order": null,
       "overflow": null,
       "overflow_x": null,
       "overflow_y": null,
       "padding": null,
       "right": null,
       "top": null,
       "visibility": null,
       "width": null
      }
     },
     "9334c2dccbf24130b0322e3b7f3ac563": {
      "model_module": "@jupyter-widgets/controls",
      "model_module_version": "1.5.0",
      "model_name": "HTMLModel",
      "state": {
       "_dom_classes": [],
       "_model_module": "@jupyter-widgets/controls",
       "_model_module_version": "1.5.0",
       "_model_name": "HTMLModel",
       "_view_count": null,
       "_view_module": "@jupyter-widgets/controls",
       "_view_module_version": "1.5.0",
       "_view_name": "HTMLView",
       "description": "",
       "description_tooltip": null,
       "layout": "IPY_MODEL_c06fc6c7b151415683d8771220ffbd28",
       "placeholder": "​",
       "style": "IPY_MODEL_cfe1e21e85a64c66accc9e93796f62fd",
       "value": " 224k/224k [00:00&lt;00:00, 802kB/s]"
      }
     },
     "9404d49122fd4fd287a61da07caacb97": {
      "model_module": "@jupyter-widgets/controls",
      "model_module_version": "1.5.0",
      "model_name": "HTMLModel",
      "state": {
       "_dom_classes": [],
       "_model_module": "@jupyter-widgets/controls",
       "_model_module_version": "1.5.0",
       "_model_name": "HTMLModel",
       "_view_count": null,
       "_view_module": "@jupyter-widgets/controls",
       "_view_module_version": "1.5.0",
       "_view_name": "HTMLView",
       "description": "",
       "description_tooltip": null,
       "layout": "IPY_MODEL_3fe59bdfab1d444b9dcd43458ebca0b1",
       "placeholder": "​",
       "style": "IPY_MODEL_98d9e034a0534582b6896397581d090a",
       "value": "Downloading: 100%"
      }
     },
     "98a1f888e0a74b0d8b6930a84bb38e33": {
      "model_module": "@jupyter-widgets/controls",
      "model_module_version": "1.5.0",
      "model_name": "FloatProgressModel",
      "state": {
       "_dom_classes": [],
       "_model_module": "@jupyter-widgets/controls",
       "_model_module_version": "1.5.0",
       "_model_name": "FloatProgressModel",
       "_view_count": null,
       "_view_module": "@jupyter-widgets/controls",
       "_view_module_version": "1.5.0",
       "_view_name": "ProgressView",
       "bar_style": "success",
       "description": "",
       "description_tooltip": null,
       "layout": "IPY_MODEL_d0d5e1080fec464ea91b6862b5498974",
       "max": 655812184.0,
       "min": 0.0,
       "orientation": "horizontal",
       "style": "IPY_MODEL_b14a70131c9e4c2cb66b957d6e52745c",
       "value": 655812184.0
      }
     },
     "98d9e034a0534582b6896397581d090a": {
      "model_module": "@jupyter-widgets/controls",
      "model_module_version": "1.5.0",
      "model_name": "DescriptionStyleModel",
      "state": {
       "_model_module": "@jupyter-widgets/controls",
       "_model_module_version": "1.5.0",
       "_model_name": "DescriptionStyleModel",
       "_view_count": null,
       "_view_module": "@jupyter-widgets/base",
       "_view_module_version": "1.2.0",
       "_view_name": "StyleView",
       "description_width": ""
      }
     },
     "9f69004458fa4d62b4a83d8c6a16cc43": {
      "model_module": "@jupyter-widgets/base",
      "model_module_version": "1.2.0",
      "model_name": "LayoutModel",
      "state": {
       "_model_module": "@jupyter-widgets/base",
       "_model_module_version": "1.2.0",
       "_model_name": "LayoutModel",
       "_view_count": null,
       "_view_module": "@jupyter-widgets/base",
       "_view_module_version": "1.2.0",
       "_view_name": "LayoutView",
       "align_content": null,
       "align_items": null,
       "align_self": null,
       "border": null,
       "bottom": null,
       "display": null,
       "flex": null,
       "flex_flow": null,
       "grid_area": null,
       "grid_auto_columns": null,
       "grid_auto_flow": null,
       "grid_auto_rows": null,
       "grid_column": null,
       "grid_gap": null,
       "grid_row": null,
       "grid_template_areas": null,
       "grid_template_columns": null,
       "grid_template_rows": null,
       "height": null,
       "justify_content": null,
       "justify_items": null,
       "left": null,
       "margin": null,
       "max_height": null,
       "max_width": null,
       "min_height": null,
       "min_width": null,
       "object_fit": null,
       "object_position": null,
       "order": null,
       "overflow": null,
       "overflow_x": null,
       "overflow_y": null,
       "padding": null,
       "right": null,
       "top": null,
       "visibility": null,
       "width": null
      }
     },
     "a3d45aac684d4464ad438caf114cbef0": {
      "model_module": "@jupyter-widgets/controls",
      "model_module_version": "1.5.0",
      "model_name": "ProgressStyleModel",
      "state": {
       "_model_module": "@jupyter-widgets/controls",
       "_model_module_version": "1.5.0",
       "_model_name": "ProgressStyleModel",
       "_view_count": null,
       "_view_module": "@jupyter-widgets/base",
       "_view_module_version": "1.2.0",
       "_view_name": "StyleView",
       "bar_color": null,
       "description_width": ""
      }
     },
     "a8f279a5004a4945be6501034fe7110b": {
      "model_module": "@jupyter-widgets/controls",
      "model_module_version": "1.5.0",
      "model_name": "DescriptionStyleModel",
      "state": {
       "_model_module": "@jupyter-widgets/controls",
       "_model_module_version": "1.5.0",
       "_model_name": "DescriptionStyleModel",
       "_view_count": null,
       "_view_module": "@jupyter-widgets/base",
       "_view_module_version": "1.2.0",
       "_view_name": "StyleView",
       "description_width": ""
      }
     },
     "abee7480f8a547f8861575d7379b98fa": {
      "model_module": "@jupyter-widgets/base",
      "model_module_version": "1.2.0",
      "model_name": "LayoutModel",
      "state": {
       "_model_module": "@jupyter-widgets/base",
       "_model_module_version": "1.2.0",
       "_model_name": "LayoutModel",
       "_view_count": null,
       "_view_module": "@jupyter-widgets/base",
       "_view_module_version": "1.2.0",
       "_view_name": "LayoutView",
       "align_content": null,
       "align_items": null,
       "align_self": null,
       "border": null,
       "bottom": null,
       "display": null,
       "flex": null,
       "flex_flow": null,
       "grid_area": null,
       "grid_auto_columns": null,
       "grid_auto_flow": null,
       "grid_auto_rows": null,
       "grid_column": null,
       "grid_gap": null,
       "grid_row": null,
       "grid_template_areas": null,
       "grid_template_columns": null,
       "grid_template_rows": null,
       "height": null,
       "justify_content": null,
       "justify_items": null,
       "left": null,
       "margin": null,
       "max_height": null,
       "max_width": null,
       "min_height": null,
       "min_width": null,
       "object_fit": null,
       "object_position": null,
       "order": null,
       "overflow": null,
       "overflow_x": null,
       "overflow_y": null,
       "padding": null,
       "right": null,
       "top": null,
       "visibility": null,
       "width": null
      }
     },
     "ae5f358af2a945d781cce7bfb024c21c": {
      "model_module": "@jupyter-widgets/base",
      "model_module_version": "1.2.0",
      "model_name": "LayoutModel",
      "state": {
       "_model_module": "@jupyter-widgets/base",
       "_model_module_version": "1.2.0",
       "_model_name": "LayoutModel",
       "_view_count": null,
       "_view_module": "@jupyter-widgets/base",
       "_view_module_version": "1.2.0",
       "_view_name": "LayoutView",
       "align_content": null,
       "align_items": null,
       "align_self": null,
       "border": null,
       "bottom": null,
       "display": null,
       "flex": null,
       "flex_flow": null,
       "grid_area": null,
       "grid_auto_columns": null,
       "grid_auto_flow": null,
       "grid_auto_rows": null,
       "grid_column": null,
       "grid_gap": null,
       "grid_row": null,
       "grid_template_areas": null,
       "grid_template_columns": null,
       "grid_template_rows": null,
       "height": null,
       "justify_content": null,
       "justify_items": null,
       "left": null,
       "margin": null,
       "max_height": null,
       "max_width": null,
       "min_height": null,
       "min_width": null,
       "object_fit": null,
       "object_position": null,
       "order": null,
       "overflow": null,
       "overflow_x": null,
       "overflow_y": null,
       "padding": null,
       "right": null,
       "top": null,
       "visibility": null,
       "width": null
      }
     },
     "af5529ef136449858a76d6e963f03637": {
      "model_module": "@jupyter-widgets/base",
      "model_module_version": "1.2.0",
      "model_name": "LayoutModel",
      "state": {
       "_model_module": "@jupyter-widgets/base",
       "_model_module_version": "1.2.0",
       "_model_name": "LayoutModel",
       "_view_count": null,
       "_view_module": "@jupyter-widgets/base",
       "_view_module_version": "1.2.0",
       "_view_name": "LayoutView",
       "align_content": null,
       "align_items": null,
       "align_self": null,
       "border": null,
       "bottom": null,
       "display": null,
       "flex": null,
       "flex_flow": null,
       "grid_area": null,
       "grid_auto_columns": null,
       "grid_auto_flow": null,
       "grid_auto_rows": null,
       "grid_column": null,
       "grid_gap": null,
       "grid_row": null,
       "grid_template_areas": null,
       "grid_template_columns": null,
       "grid_template_rows": null,
       "height": null,
       "justify_content": null,
       "justify_items": null,
       "left": null,
       "margin": null,
       "max_height": null,
       "max_width": null,
       "min_height": null,
       "min_width": null,
       "object_fit": null,
       "object_position": null,
       "order": null,
       "overflow": null,
       "overflow_x": null,
       "overflow_y": null,
       "padding": null,
       "right": null,
       "top": null,
       "visibility": null,
       "width": null
      }
     },
     "b14a70131c9e4c2cb66b957d6e52745c": {
      "model_module": "@jupyter-widgets/controls",
      "model_module_version": "1.5.0",
      "model_name": "ProgressStyleModel",
      "state": {
       "_model_module": "@jupyter-widgets/controls",
       "_model_module_version": "1.5.0",
       "_model_name": "ProgressStyleModel",
       "_view_count": null,
       "_view_module": "@jupyter-widgets/base",
       "_view_module_version": "1.2.0",
       "_view_name": "StyleView",
       "bar_color": null,
       "description_width": ""
      }
     },
     "b6f544a260a84cc1ad9bf9fb25b6d3a1": {
      "model_module": "@jupyter-widgets/controls",
      "model_module_version": "1.5.0",
      "model_name": "DescriptionStyleModel",
      "state": {
       "_model_module": "@jupyter-widgets/controls",
       "_model_module_version": "1.5.0",
       "_model_name": "DescriptionStyleModel",
       "_view_count": null,
       "_view_module": "@jupyter-widgets/base",
       "_view_module_version": "1.2.0",
       "_view_name": "StyleView",
       "description_width": ""
      }
     },
     "b84a7170e9d341938cd32c01f7f836aa": {
      "model_module": "@jupyter-widgets/controls",
      "model_module_version": "1.5.0",
      "model_name": "FloatProgressModel",
      "state": {
       "_dom_classes": [],
       "_model_module": "@jupyter-widgets/controls",
       "_model_module_version": "1.5.0",
       "_model_name": "FloatProgressModel",
       "_view_count": null,
       "_view_module": "@jupyter-widgets/controls",
       "_view_module_version": "1.5.0",
       "_view_name": "ProgressView",
       "bar_style": "success",
       "description": "",
       "description_tooltip": null,
       "layout": "IPY_MODEL_af5529ef136449858a76d6e963f03637",
       "max": 2.0,
       "min": 0.0,
       "orientation": "horizontal",
       "style": "IPY_MODEL_cea4fafa286444d9afbd39c3a1fc2623",
       "value": 2.0
      }
     },
     "b8a134ee68494f3da990bd0ada09ea1d": {
      "model_module": "@jupyter-widgets/controls",
      "model_module_version": "1.5.0",
      "model_name": "DescriptionStyleModel",
      "state": {
       "_model_module": "@jupyter-widgets/controls",
       "_model_module_version": "1.5.0",
       "_model_name": "DescriptionStyleModel",
       "_view_count": null,
       "_view_module": "@jupyter-widgets/base",
       "_view_module_version": "1.2.0",
       "_view_name": "StyleView",
       "description_width": ""
      }
     },
     "b9f413ce345c41fba305c60a4614ae8f": {
      "model_module": "@jupyter-widgets/controls",
      "model_module_version": "1.5.0",
      "model_name": "FloatProgressModel",
      "state": {
       "_dom_classes": [],
       "_model_module": "@jupyter-widgets/controls",
       "_model_module_version": "1.5.0",
       "_model_name": "FloatProgressModel",
       "_view_count": null,
       "_view_module": "@jupyter-widgets/controls",
       "_view_module_version": "1.5.0",
       "_view_name": "ProgressView",
       "bar_style": "success",
       "description": "",
       "description_tooltip": null,
       "layout": "IPY_MODEL_691bda43bd3b4930a02f93abef4aeec2",
       "max": 1534.0,
       "min": 0.0,
       "orientation": "horizontal",
       "style": "IPY_MODEL_325969e440894cb4819e63ff9bd8c32c",
       "value": 1534.0
      }
     },
     "c06fc6c7b151415683d8771220ffbd28": {
      "model_module": "@jupyter-widgets/base",
      "model_module_version": "1.2.0",
      "model_name": "LayoutModel",
      "state": {
       "_model_module": "@jupyter-widgets/base",
       "_model_module_version": "1.2.0",
       "_model_name": "LayoutModel",
       "_view_count": null,
       "_view_module": "@jupyter-widgets/base",
       "_view_module_version": "1.2.0",
       "_view_name": "LayoutView",
       "align_content": null,
       "align_items": null,
       "align_self": null,
       "border": null,
       "bottom": null,
       "display": null,
       "flex": null,
       "flex_flow": null,
       "grid_area": null,
       "grid_auto_columns": null,
       "grid_auto_flow": null,
       "grid_auto_rows": null,
       "grid_column": null,
       "grid_gap": null,
       "grid_row": null,
       "grid_template_areas": null,
       "grid_template_columns": null,
       "grid_template_rows": null,
       "height": null,
       "justify_content": null,
       "justify_items": null,
       "left": null,
       "margin": null,
       "max_height": null,
       "max_width": null,
       "min_height": null,
       "min_width": null,
       "object_fit": null,
       "object_position": null,
       "order": null,
       "overflow": null,
       "overflow_x": null,
       "overflow_y": null,
       "padding": null,
       "right": null,
       "top": null,
       "visibility": null,
       "width": null
      }
     },
     "c5b72f424f3d4094b6a17206443077c9": {
      "model_module": "@jupyter-widgets/controls",
      "model_module_version": "1.5.0",
      "model_name": "DescriptionStyleModel",
      "state": {
       "_model_module": "@jupyter-widgets/controls",
       "_model_module_version": "1.5.0",
       "_model_name": "DescriptionStyleModel",
       "_view_count": null,
       "_view_module": "@jupyter-widgets/base",
       "_view_module_version": "1.2.0",
       "_view_name": "StyleView",
       "description_width": ""
      }
     },
     "c5db878dc0c144d586440eae9d92d92a": {
      "model_module": "@jupyter-widgets/controls",
      "model_module_version": "1.5.0",
      "model_name": "HTMLModel",
      "state": {
       "_dom_classes": [],
       "_model_module": "@jupyter-widgets/controls",
       "_model_module_version": "1.5.0",
       "_model_name": "HTMLModel",
       "_view_count": null,
       "_view_module": "@jupyter-widgets/controls",
       "_view_module_version": "1.5.0",
       "_view_name": "HTMLView",
       "description": "",
       "description_tooltip": null,
       "layout": "IPY_MODEL_69604e9b85e049d79302ade7e1e0785b",
       "placeholder": "​",
       "style": "IPY_MODEL_b8a134ee68494f3da990bd0ada09ea1d",
       "value": "Downloading: 100%"
      }
     },
     "ca0dc0882bd741efa02aa4a32008dcd5": {
      "model_module": "@jupyter-widgets/controls",
      "model_module_version": "1.5.0",
      "model_name": "HBoxModel",
      "state": {
       "_dom_classes": [],
       "_model_module": "@jupyter-widgets/controls",
       "_model_module_version": "1.5.0",
       "_model_name": "HBoxModel",
       "_view_count": null,
       "_view_module": "@jupyter-widgets/controls",
       "_view_module_version": "1.5.0",
       "_view_name": "HBoxView",
       "box_style": "",
       "children": [
        "IPY_MODEL_d618010409d14aec91c7520996263384",
        "IPY_MODEL_1918762950304050ba29828092ca174e",
        "IPY_MODEL_9334c2dccbf24130b0322e3b7f3ac563"
       ],
       "layout": "IPY_MODEL_1eda1652df734056819c56b66ab77148"
      }
     },
     "cea4fafa286444d9afbd39c3a1fc2623": {
      "model_module": "@jupyter-widgets/controls",
      "model_module_version": "1.5.0",
      "model_name": "ProgressStyleModel",
      "state": {
       "_model_module": "@jupyter-widgets/controls",
       "_model_module_version": "1.5.0",
       "_model_name": "ProgressStyleModel",
       "_view_count": null,
       "_view_module": "@jupyter-widgets/base",
       "_view_module_version": "1.2.0",
       "_view_name": "StyleView",
       "bar_color": null,
       "description_width": ""
      }
     },
     "cfe1e21e85a64c66accc9e93796f62fd": {
      "model_module": "@jupyter-widgets/controls",
      "model_module_version": "1.5.0",
      "model_name": "DescriptionStyleModel",
      "state": {
       "_model_module": "@jupyter-widgets/controls",
       "_model_module_version": "1.5.0",
       "_model_name": "DescriptionStyleModel",
       "_view_count": null,
       "_view_module": "@jupyter-widgets/base",
       "_view_module_version": "1.2.0",
       "_view_name": "StyleView",
       "description_width": ""
      }
     },
     "d0d451a4187940c99b7024bcbb0799e8": {
      "model_module": "@jupyter-widgets/controls",
      "model_module_version": "1.5.0",
      "model_name": "DescriptionStyleModel",
      "state": {
       "_model_module": "@jupyter-widgets/controls",
       "_model_module_version": "1.5.0",
       "_model_name": "DescriptionStyleModel",
       "_view_count": null,
       "_view_module": "@jupyter-widgets/base",
       "_view_module_version": "1.2.0",
       "_view_name": "StyleView",
       "description_width": ""
      }
     },
     "d0d5e1080fec464ea91b6862b5498974": {
      "model_module": "@jupyter-widgets/base",
      "model_module_version": "1.2.0",
      "model_name": "LayoutModel",
      "state": {
       "_model_module": "@jupyter-widgets/base",
       "_model_module_version": "1.2.0",
       "_model_name": "LayoutModel",
       "_view_count": null,
       "_view_module": "@jupyter-widgets/base",
       "_view_module_version": "1.2.0",
       "_view_name": "LayoutView",
       "align_content": null,
       "align_items": null,
       "align_self": null,
       "border": null,
       "bottom": null,
       "display": null,
       "flex": null,
       "flex_flow": null,
       "grid_area": null,
       "grid_auto_columns": null,
       "grid_auto_flow": null,
       "grid_auto_rows": null,
       "grid_column": null,
       "grid_gap": null,
       "grid_row": null,
       "grid_template_areas": null,
       "grid_template_columns": null,
       "grid_template_rows": null,
       "height": null,
       "justify_content": null,
       "justify_items": null,
       "left": null,
       "margin": null,
       "max_height": null,
       "max_width": null,
       "min_height": null,
       "min_width": null,
       "object_fit": null,
       "object_position": null,
       "order": null,
       "overflow": null,
       "overflow_x": null,
       "overflow_y": null,
       "padding": null,
       "right": null,
       "top": null,
       "visibility": null,
       "width": null
      }
     },
     "d32af9e4bd084d3baa82f4ba865e2b84": {
      "model_module": "@jupyter-widgets/controls",
      "model_module_version": "1.5.0",
      "model_name": "HTMLModel",
      "state": {
       "_dom_classes": [],
       "_model_module": "@jupyter-widgets/controls",
       "_model_module_version": "1.5.0",
       "_model_name": "HTMLModel",
       "_view_count": null,
       "_view_module": "@jupyter-widgets/controls",
       "_view_module_version": "1.5.0",
       "_view_name": "HTMLView",
       "description": "",
       "description_tooltip": null,
       "layout": "IPY_MODEL_9f69004458fa4d62b4a83d8c6a16cc43",
       "placeholder": "​",
       "style": "IPY_MODEL_b6f544a260a84cc1ad9bf9fb25b6d3a1",
       "value": "Downloading: 100%"
      }
     },
     "d3901b42f0764473bf47e9c3611d4acc": {
      "model_module": "@jupyter-widgets/controls",
      "model_module_version": "1.5.0",
      "model_name": "ProgressStyleModel",
      "state": {
       "_model_module": "@jupyter-widgets/controls",
       "_model_module_version": "1.5.0",
       "_model_name": "ProgressStyleModel",
       "_view_count": null,
       "_view_module": "@jupyter-widgets/base",
       "_view_module_version": "1.2.0",
       "_view_name": "StyleView",
       "bar_color": null,
       "description_width": ""
      }
     },
     "d618010409d14aec91c7520996263384": {
      "model_module": "@jupyter-widgets/controls",
      "model_module_version": "1.5.0",
      "model_name": "HTMLModel",
      "state": {
       "_dom_classes": [],
       "_model_module": "@jupyter-widgets/controls",
       "_model_module_version": "1.5.0",
       "_model_name": "HTMLModel",
       "_view_count": null,
       "_view_module": "@jupyter-widgets/controls",
       "_view_module_version": "1.5.0",
       "_view_name": "HTMLView",
       "description": "",
       "description_tooltip": null,
       "layout": "IPY_MODEL_ae5f358af2a945d781cce7bfb024c21c",
       "placeholder": "​",
       "style": "IPY_MODEL_3361b589937e40c29c30e3a544066ee1",
       "value": "Downloading: 100%"
      }
     },
     "ef51998491c04e2494ca003300422ec5": {
      "model_module": "@jupyter-widgets/base",
      "model_module_version": "1.2.0",
      "model_name": "LayoutModel",
      "state": {
       "_model_module": "@jupyter-widgets/base",
       "_model_module_version": "1.2.0",
       "_model_name": "LayoutModel",
       "_view_count": null,
       "_view_module": "@jupyter-widgets/base",
       "_view_module_version": "1.2.0",
       "_view_name": "LayoutView",
       "align_content": null,
       "align_items": null,
       "align_self": null,
       "border": null,
       "bottom": null,
       "display": null,
       "flex": null,
       "flex_flow": null,
       "grid_area": null,
       "grid_auto_columns": null,
       "grid_auto_flow": null,
       "grid_auto_rows": null,
       "grid_column": null,
       "grid_gap": null,
       "grid_row": null,
       "grid_template_areas": null,
       "grid_template_columns": null,
       "grid_template_rows": null,
       "height": null,
       "justify_content": null,
       "justify_items": null,
       "left": null,
       "margin": null,
       "max_height": null,
       "max_width": null,
       "min_height": null,
       "min_width": null,
       "object_fit": null,
       "object_position": null,
       "order": null,
       "overflow": null,
       "overflow_x": null,
       "overflow_y": null,
       "padding": null,
       "right": null,
       "top": null,
       "visibility": null,
       "width": null
      }
     },
     "fe9f334d7cad4050a4ecddaf4b8ac98e": {
      "model_module": "@jupyter-widgets/controls",
      "model_module_version": "1.5.0",
      "model_name": "DescriptionStyleModel",
      "state": {
       "_model_module": "@jupyter-widgets/controls",
       "_model_module_version": "1.5.0",
       "_model_name": "DescriptionStyleModel",
       "_view_count": null,
       "_view_module": "@jupyter-widgets/base",
       "_view_module_version": "1.2.0",
       "_view_name": "StyleView",
       "description_width": ""
      }
     }
    },
    "version_major": 2,
    "version_minor": 0
   }
  }
 },
 "nbformat": 4,
 "nbformat_minor": 5
}
